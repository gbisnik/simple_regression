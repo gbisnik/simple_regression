{
 "cells": [
  {
   "cell_type": "code",
   "execution_count": 1,
   "metadata": {},
   "outputs": [],
   "source": [
    "import pandas as pd\n",
    "from pathlib import Path\n",
    "import glob\n",
    "from sklearn.model_selection import train_test_split\n",
    "from sklearn.linear_model import LinearRegression\n",
    "from sklearn import metrics\n",
    "import numpy as np"
   ]
  },
  {
   "cell_type": "code",
   "execution_count": 2,
   "metadata": {},
   "outputs": [],
   "source": [
    "import matplotlib.pyplot as plt\n",
    "%matplotlib inline\n",
    "import seaborn as sns"
   ]
  },
  {
   "cell_type": "markdown",
   "metadata": {},
   "source": [
    "## Beers "
   ]
  },
  {
   "cell_type": "code",
   "execution_count": 3,
   "metadata": {},
   "outputs": [
    {
     "data": {
      "text/html": [
       "<div>\n",
       "<style scoped>\n",
       "    .dataframe tbody tr th:only-of-type {\n",
       "        vertical-align: middle;\n",
       "    }\n",
       "\n",
       "    .dataframe tbody tr th {\n",
       "        vertical-align: top;\n",
       "    }\n",
       "\n",
       "    .dataframe thead th {\n",
       "        text-align: right;\n",
       "    }\n",
       "</style>\n",
       "<table border=\"1\" class=\"dataframe\">\n",
       "  <thead>\n",
       "    <tr style=\"text-align: right;\">\n",
       "      <th></th>\n",
       "      <th>brewery_name</th>\n",
       "      <th>beer_name</th>\n",
       "      <th>beer_style</th>\n",
       "      <th>beer_abv</th>\n",
       "      <th>num_reviews</th>\n",
       "      <th>rating</th>\n",
       "      <th>city</th>\n",
       "      <th>state</th>\n",
       "    </tr>\n",
       "  </thead>\n",
       "  <tbody>\n",
       "    <tr>\n",
       "      <th>4198</th>\n",
       "      <td>Tröegs Brewing Company</td>\n",
       "      <td>Scratch Beer 7 - 2008</td>\n",
       "      <td>Weizenbock</td>\n",
       "      <td>7.9</td>\n",
       "      <td>61</td>\n",
       "      <td>3.98</td>\n",
       "      <td>Hershey</td>\n",
       "      <td>PA</td>\n",
       "    </tr>\n",
       "    <tr>\n",
       "      <th>1876</th>\n",
       "      <td>Heavy Seas Beer</td>\n",
       "      <td>Heavy Seas - Letter Of Marque 2010 (Rye Porter)</td>\n",
       "      <td>American Porter</td>\n",
       "      <td>7.8</td>\n",
       "      <td>75</td>\n",
       "      <td>3.93</td>\n",
       "      <td>Halethorpe</td>\n",
       "      <td>MD</td>\n",
       "    </tr>\n",
       "    <tr>\n",
       "      <th>1264</th>\n",
       "      <td>Evil Twin Brewing</td>\n",
       "      <td>Evil Twin Molotov Cocktail</td>\n",
       "      <td>American Double / Imperial IPA</td>\n",
       "      <td>13.0</td>\n",
       "      <td>9</td>\n",
       "      <td>3.56</td>\n",
       "      <td>Brooklyn</td>\n",
       "      <td>NY</td>\n",
       "    </tr>\n",
       "  </tbody>\n",
       "</table>\n",
       "</div>"
      ],
      "text/plain": [
       "                brewery_name                                        beer_name  \\\n",
       "4198  Tröegs Brewing Company                            Scratch Beer 7 - 2008   \n",
       "1876         Heavy Seas Beer  Heavy Seas - Letter Of Marque 2010 (Rye Porter)   \n",
       "1264       Evil Twin Brewing                       Evil Twin Molotov Cocktail   \n",
       "\n",
       "                          beer_style  beer_abv  num_reviews  rating  \\\n",
       "4198                      Weizenbock       7.9           61    3.98   \n",
       "1876                 American Porter       7.8           75    3.93   \n",
       "1264  American Double / Imperial IPA      13.0            9    3.56   \n",
       "\n",
       "            city state  \n",
       "4198     Hershey    PA  \n",
       "1876  Halethorpe    MD  \n",
       "1264    Brooklyn    NY  "
      ]
     },
     "execution_count": 3,
     "metadata": {},
     "output_type": "execute_result"
    }
   ],
   "source": [
    "beers = pd.read_csv('../data/beers.csv')\n",
    "beers.sample(3)"
   ]
  },
  {
   "cell_type": "markdown",
   "metadata": {},
   "source": [
    "## Exploratory Data Analysis"
   ]
  },
  {
   "cell_type": "code",
   "execution_count": 4,
   "metadata": {},
   "outputs": [
    {
     "data": {
      "text/plain": [
       "(4640, 8)"
      ]
     },
     "execution_count": 4,
     "metadata": {},
     "output_type": "execute_result"
    }
   ],
   "source": [
    "beers.shape"
   ]
  },
  {
   "cell_type": "code",
   "execution_count": 5,
   "metadata": {},
   "outputs": [
    {
     "data": {
      "text/plain": [
       "brewery_name    0\n",
       "beer_name       0\n",
       "beer_style      0\n",
       "beer_abv        0\n",
       "num_reviews     0\n",
       "rating          0\n",
       "city            0\n",
       "state           0\n",
       "dtype: int64"
      ]
     },
     "execution_count": 5,
     "metadata": {},
     "output_type": "execute_result"
    }
   ],
   "source": [
    "# Is there any missing data?\n",
    "beers.isnull().sum()"
   ]
  },
  {
   "cell_type": "code",
   "execution_count": 6,
   "metadata": {},
   "outputs": [
    {
     "data": {
      "text/plain": [
       "98"
      ]
     },
     "execution_count": 6,
     "metadata": {},
     "output_type": "execute_result"
    }
   ],
   "source": [
    "# How many unique beer styles are there?\n",
    "beers['beer_style'].nunique()"
   ]
  },
  {
   "cell_type": "code",
   "execution_count": 7,
   "metadata": {},
   "outputs": [
    {
     "data": {
      "text/plain": [
       "American IPA                        393\n",
       "American Pale Ale (APA)             281\n",
       "American Porter                     190\n",
       "American Amber / Red Ale            184\n",
       "American Double / Imperial IPA      173\n",
       "Saison / Farmhouse Ale              163\n",
       "American Double / Imperial Stout    111\n",
       "Fruit / Vegetable Beer              107\n",
       "American Brown Ale                  107\n",
       "American Stout                      102\n",
       "Name: beer_style, dtype: int64"
      ]
     },
     "execution_count": 7,
     "metadata": {},
     "output_type": "execute_result"
    }
   ],
   "source": [
    "# What are the most frequent beer styles?\n",
    "top_styles=beers['beer_style'].value_counts().sort_values(ascending=False).head(10)\n",
    "top_styles"
   ]
  },
  {
   "cell_type": "code",
   "execution_count": 8,
   "metadata": {},
   "outputs": [
    {
     "data": {
      "text/html": [
       "<div>\n",
       "<style scoped>\n",
       "    .dataframe tbody tr th:only-of-type {\n",
       "        vertical-align: middle;\n",
       "    }\n",
       "\n",
       "    .dataframe tbody tr th {\n",
       "        vertical-align: top;\n",
       "    }\n",
       "\n",
       "    .dataframe thead th {\n",
       "        text-align: right;\n",
       "    }\n",
       "</style>\n",
       "<table border=\"1\" class=\"dataframe\">\n",
       "  <thead>\n",
       "    <tr style=\"text-align: right;\">\n",
       "      <th></th>\n",
       "      <th>brewery_name</th>\n",
       "      <th>beer_name</th>\n",
       "      <th>beer_style</th>\n",
       "      <th>beer_abv</th>\n",
       "      <th>num_reviews</th>\n",
       "      <th>rating</th>\n",
       "      <th>city</th>\n",
       "      <th>state</th>\n",
       "    </tr>\n",
       "  </thead>\n",
       "  <tbody>\n",
       "    <tr>\n",
       "      <th>3634</th>\n",
       "      <td>Southampton Publick House</td>\n",
       "      <td>Southampton Berliner Weisse</td>\n",
       "      <td>Berliner Weissbier</td>\n",
       "      <td>2.0</td>\n",
       "      <td>41</td>\n",
       "      <td>4.77</td>\n",
       "      <td>Southampton</td>\n",
       "      <td>NY</td>\n",
       "    </tr>\n",
       "    <tr>\n",
       "      <th>2040</th>\n",
       "      <td>Iron Hill Brewery &amp; Restaurant</td>\n",
       "      <td>Belgian Single</td>\n",
       "      <td>Low Alcohol Beer</td>\n",
       "      <td>2.5</td>\n",
       "      <td>5</td>\n",
       "      <td>3.50</td>\n",
       "      <td>Wilmington</td>\n",
       "      <td>DE</td>\n",
       "    </tr>\n",
       "    <tr>\n",
       "      <th>2207</th>\n",
       "      <td>Iron Hill Brewery &amp; Restaurant</td>\n",
       "      <td>Pugilist</td>\n",
       "      <td>English Dark Mild Ale</td>\n",
       "      <td>2.6</td>\n",
       "      <td>2</td>\n",
       "      <td>3.75</td>\n",
       "      <td>Wilmington</td>\n",
       "      <td>DE</td>\n",
       "    </tr>\n",
       "    <tr>\n",
       "      <th>2043</th>\n",
       "      <td>Iron Hill Brewery &amp; Restaurant</td>\n",
       "      <td>Berliner Weiss</td>\n",
       "      <td>Berliner Weissbier</td>\n",
       "      <td>2.8</td>\n",
       "      <td>59</td>\n",
       "      <td>4.00</td>\n",
       "      <td>Wilmington</td>\n",
       "      <td>DE</td>\n",
       "    </tr>\n",
       "    <tr>\n",
       "      <th>1467</th>\n",
       "      <td>Founders Brewing Company</td>\n",
       "      <td>Founders Trois</td>\n",
       "      <td>English Bitter</td>\n",
       "      <td>3.0</td>\n",
       "      <td>2</td>\n",
       "      <td>4.25</td>\n",
       "      <td>Grand Rapids</td>\n",
       "      <td>MI</td>\n",
       "    </tr>\n",
       "  </tbody>\n",
       "</table>\n",
       "</div>"
      ],
      "text/plain": [
       "                        brewery_name                    beer_name  \\\n",
       "3634       Southampton Publick House  Southampton Berliner Weisse   \n",
       "2040  Iron Hill Brewery & Restaurant               Belgian Single   \n",
       "2207  Iron Hill Brewery & Restaurant                     Pugilist   \n",
       "2043  Iron Hill Brewery & Restaurant               Berliner Weiss   \n",
       "1467        Founders Brewing Company               Founders Trois   \n",
       "\n",
       "                 beer_style  beer_abv  num_reviews  rating          city state  \n",
       "3634     Berliner Weissbier       2.0           41    4.77   Southampton    NY  \n",
       "2040       Low Alcohol Beer       2.5            5    3.50    Wilmington    DE  \n",
       "2207  English Dark Mild Ale       2.6            2    3.75    Wilmington    DE  \n",
       "2043     Berliner Weissbier       2.8           59    4.00    Wilmington    DE  \n",
       "1467         English Bitter       3.0            2    4.25  Grand Rapids    MI  "
      ]
     },
     "execution_count": 8,
     "metadata": {},
     "output_type": "execute_result"
    }
   ],
   "source": [
    "# Which beers have the highest ABV?\n",
    "beers.sort_values(by = 'beer_abv', ascending=True).head(5)"
   ]
  },
  {
   "cell_type": "code",
   "execution_count": 9,
   "metadata": {},
   "outputs": [
    {
     "data": {
      "text/plain": [
       "51"
      ]
     },
     "execution_count": 9,
     "metadata": {},
     "output_type": "execute_result"
    }
   ],
   "source": [
    "# How many beers have a perfect rating?\n",
    "len(beers[beers['rating']==5.00])"
   ]
  },
  {
   "cell_type": "code",
   "execution_count": 10,
   "metadata": {},
   "outputs": [
    {
     "data": {
      "text/html": [
       "<div>\n",
       "<style scoped>\n",
       "    .dataframe tbody tr th:only-of-type {\n",
       "        vertical-align: middle;\n",
       "    }\n",
       "\n",
       "    .dataframe tbody tr th {\n",
       "        vertical-align: top;\n",
       "    }\n",
       "\n",
       "    .dataframe thead th {\n",
       "        text-align: right;\n",
       "    }\n",
       "</style>\n",
       "<table border=\"1\" class=\"dataframe\">\n",
       "  <thead>\n",
       "    <tr style=\"text-align: right;\">\n",
       "      <th></th>\n",
       "      <th>brewery_name</th>\n",
       "      <th>beer_name</th>\n",
       "      <th>beer_style</th>\n",
       "      <th>beer_abv</th>\n",
       "      <th>num_reviews</th>\n",
       "      <th>rating</th>\n",
       "      <th>city</th>\n",
       "      <th>state</th>\n",
       "    </tr>\n",
       "  </thead>\n",
       "  <tbody>\n",
       "    <tr>\n",
       "      <th>2563</th>\n",
       "      <td>Marble Brewery</td>\n",
       "      <td>Imperial Porter</td>\n",
       "      <td>American Porter</td>\n",
       "      <td>8.3</td>\n",
       "      <td>67</td>\n",
       "      <td>5.00</td>\n",
       "      <td>Albuquerque</td>\n",
       "      <td>NM</td>\n",
       "    </tr>\n",
       "    <tr>\n",
       "      <th>2557</th>\n",
       "      <td>Marble Brewery</td>\n",
       "      <td>Bourbon Barrel Imperial Stout</td>\n",
       "      <td>American Double / Imperial Stout</td>\n",
       "      <td>11.0</td>\n",
       "      <td>43</td>\n",
       "      <td>5.00</td>\n",
       "      <td>Albuquerque</td>\n",
       "      <td>NM</td>\n",
       "    </tr>\n",
       "    <tr>\n",
       "      <th>3634</th>\n",
       "      <td>Southampton Publick House</td>\n",
       "      <td>Southampton Berliner Weisse</td>\n",
       "      <td>Berliner Weissbier</td>\n",
       "      <td>2.0</td>\n",
       "      <td>41</td>\n",
       "      <td>4.77</td>\n",
       "      <td>Southampton</td>\n",
       "      <td>NY</td>\n",
       "    </tr>\n",
       "    <tr>\n",
       "      <th>4050</th>\n",
       "      <td>The Alchemist</td>\n",
       "      <td>Heady Topper</td>\n",
       "      <td>American Double / Imperial IPA</td>\n",
       "      <td>8.0</td>\n",
       "      <td>469</td>\n",
       "      <td>4.63</td>\n",
       "      <td>Waterbury</td>\n",
       "      <td>VT</td>\n",
       "    </tr>\n",
       "    <tr>\n",
       "      <th>2152</th>\n",
       "      <td>Iron Hill Brewery &amp; Restaurant</td>\n",
       "      <td>Imperial IPA</td>\n",
       "      <td>American Double / Imperial IPA</td>\n",
       "      <td>7.8</td>\n",
       "      <td>965</td>\n",
       "      <td>4.60</td>\n",
       "      <td>Wilmington</td>\n",
       "      <td>DE</td>\n",
       "    </tr>\n",
       "  </tbody>\n",
       "</table>\n",
       "</div>"
      ],
      "text/plain": [
       "                        brewery_name                      beer_name  \\\n",
       "2563                  Marble Brewery                Imperial Porter   \n",
       "2557                  Marble Brewery  Bourbon Barrel Imperial Stout   \n",
       "3634       Southampton Publick House    Southampton Berliner Weisse   \n",
       "4050                   The Alchemist                   Heady Topper   \n",
       "2152  Iron Hill Brewery & Restaurant                   Imperial IPA   \n",
       "\n",
       "                            beer_style  beer_abv  num_reviews  rating  \\\n",
       "2563                   American Porter       8.3           67    5.00   \n",
       "2557  American Double / Imperial Stout      11.0           43    5.00   \n",
       "3634                Berliner Weissbier       2.0           41    4.77   \n",
       "4050    American Double / Imperial IPA       8.0          469    4.63   \n",
       "2152    American Double / Imperial IPA       7.8          965    4.60   \n",
       "\n",
       "             city state  \n",
       "2563  Albuquerque    NM  \n",
       "2557  Albuquerque    NM  \n",
       "3634  Southampton    NY  \n",
       "4050    Waterbury    VT  \n",
       "2152   Wilmington    DE  "
      ]
     },
     "execution_count": 10,
     "metadata": {},
     "output_type": "execute_result"
    }
   ],
   "source": [
    "# Among beers with at least 25 ratings, what were the most popular?\n",
    "beers.loc[beers['num_reviews']>=25].sort_values(by='rating', ascending=False).head(5)"
   ]
  },
  {
   "cell_type": "code",
   "execution_count": 11,
   "metadata": {},
   "outputs": [
    {
     "data": {
      "text/html": [
       "<div>\n",
       "<style scoped>\n",
       "    .dataframe tbody tr th:only-of-type {\n",
       "        vertical-align: middle;\n",
       "    }\n",
       "\n",
       "    .dataframe tbody tr th {\n",
       "        vertical-align: top;\n",
       "    }\n",
       "\n",
       "    .dataframe thead th {\n",
       "        text-align: right;\n",
       "    }\n",
       "</style>\n",
       "<table border=\"1\" class=\"dataframe\">\n",
       "  <thead>\n",
       "    <tr style=\"text-align: right;\">\n",
       "      <th></th>\n",
       "      <th>brewery_name</th>\n",
       "      <th>beer_name</th>\n",
       "      <th>beer_style</th>\n",
       "      <th>beer_abv</th>\n",
       "      <th>num_reviews</th>\n",
       "      <th>rating</th>\n",
       "      <th>city</th>\n",
       "      <th>state</th>\n",
       "    </tr>\n",
       "  </thead>\n",
       "  <tbody>\n",
       "    <tr>\n",
       "      <th>1482</th>\n",
       "      <td>Four Horsemen Brewing Company</td>\n",
       "      <td>Rye IPA</td>\n",
       "      <td>Rye Beer</td>\n",
       "      <td>7.8</td>\n",
       "      <td>113</td>\n",
       "      <td>2.00</td>\n",
       "      <td>South Bend</td>\n",
       "      <td>IN</td>\n",
       "    </tr>\n",
       "    <tr>\n",
       "      <th>1477</th>\n",
       "      <td>Four Horsemen Brewing Company</td>\n",
       "      <td>Hefeweizen</td>\n",
       "      <td>Hefeweizen</td>\n",
       "      <td>6.0</td>\n",
       "      <td>864</td>\n",
       "      <td>2.00</td>\n",
       "      <td>South Bend</td>\n",
       "      <td>IN</td>\n",
       "    </tr>\n",
       "    <tr>\n",
       "      <th>3714</th>\n",
       "      <td>Sprecher Brewing Company</td>\n",
       "      <td>Mbege Ale</td>\n",
       "      <td>Fruit / Vegetable Beer</td>\n",
       "      <td>7.0</td>\n",
       "      <td>40</td>\n",
       "      <td>2.16</td>\n",
       "      <td>Glendale</td>\n",
       "      <td>WI</td>\n",
       "    </tr>\n",
       "    <tr>\n",
       "      <th>2869</th>\n",
       "      <td>O'Fallon Brewery</td>\n",
       "      <td>Light</td>\n",
       "      <td>English Dark Mild Ale</td>\n",
       "      <td>4.5</td>\n",
       "      <td>87</td>\n",
       "      <td>2.25</td>\n",
       "      <td>O'Fallon</td>\n",
       "      <td>MO</td>\n",
       "    </tr>\n",
       "    <tr>\n",
       "      <th>4128</th>\n",
       "      <td>Tommyknocker Brewery</td>\n",
       "      <td>Tundrabeary Ale</td>\n",
       "      <td>Fruit / Vegetable Beer</td>\n",
       "      <td>4.7</td>\n",
       "      <td>52</td>\n",
       "      <td>2.31</td>\n",
       "      <td>Idaho Springs</td>\n",
       "      <td>CO</td>\n",
       "    </tr>\n",
       "  </tbody>\n",
       "</table>\n",
       "</div>"
      ],
      "text/plain": [
       "                       brewery_name        beer_name              beer_style  \\\n",
       "1482  Four Horsemen Brewing Company          Rye IPA                Rye Beer   \n",
       "1477  Four Horsemen Brewing Company       Hefeweizen              Hefeweizen   \n",
       "3714       Sprecher Brewing Company        Mbege Ale  Fruit / Vegetable Beer   \n",
       "2869               O'Fallon Brewery            Light   English Dark Mild Ale   \n",
       "4128           Tommyknocker Brewery  Tundrabeary Ale  Fruit / Vegetable Beer   \n",
       "\n",
       "      beer_abv  num_reviews  rating           city state  \n",
       "1482       7.8          113    2.00     South Bend    IN  \n",
       "1477       6.0          864    2.00     South Bend    IN  \n",
       "3714       7.0           40    2.16       Glendale    WI  \n",
       "2869       4.5           87    2.25       O'Fallon    MO  \n",
       "4128       4.7           52    2.31  Idaho Springs    CO  "
      ]
     },
     "execution_count": 11,
     "metadata": {},
     "output_type": "execute_result"
    }
   ],
   "source": [
    "# Among beers with at least 25 ratings, what were the LEAST popular?\n",
    "beers.loc[beers['num_reviews']>=25].sort_values(by='rating', ascending=True).head(5)"
   ]
  },
  {
   "cell_type": "markdown",
   "metadata": {},
   "source": [
    "[Four Horsemen. The worst brewery of 2013.](https://www.southbendtribune.com/news/business/four-horsemen-taps-out/article_1b899388-4579-11e3-b9ce-0019bb30f31a.html)"
   ]
  },
  {
   "cell_type": "markdown",
   "metadata": {},
   "source": [
    "## Feature Engineering"
   ]
  },
  {
   "cell_type": "code",
   "execution_count": 12,
   "metadata": {},
   "outputs": [
    {
     "data": {
      "text/plain": [
       "'American Double / Imperial IPA'"
      ]
     },
     "execution_count": 12,
     "metadata": {},
     "output_type": "execute_result"
    }
   ],
   "source": [
    "# what does the first cell look like?\n",
    "beers['beer_style'][0]"
   ]
  },
  {
   "cell_type": "code",
   "execution_count": 13,
   "metadata": {},
   "outputs": [
    {
     "data": {
      "text/plain": [
       "True"
      ]
     },
     "execution_count": 13,
     "metadata": {},
     "output_type": "execute_result"
    }
   ],
   "source": [
    "# how do you find a string within a cell?\n",
    "'Double' in beers['beer_style'][0]"
   ]
  },
  {
   "cell_type": "code",
   "execution_count": 14,
   "metadata": {},
   "outputs": [],
   "source": [
    "# Let's write a function and apply it!\n",
    "def double_trouble(row):\n",
    "    if 'Double' in row:\n",
    "        return 'trouble'\n",
    "    else:\n",
    "        return 'no trouble'"
   ]
  },
  {
   "cell_type": "code",
   "execution_count": 15,
   "metadata": {},
   "outputs": [],
   "source": [
    "# create a new variable based on that function\n",
    "beers['newvar']=beers['beer_style'].apply(double_trouble)"
   ]
  },
  {
   "cell_type": "code",
   "execution_count": 16,
   "metadata": {},
   "outputs": [],
   "source": [
    "# Is it an Ale?\n",
    "def ale_finder(row):\n",
    "    if 'ale' in row.lower():\n",
    "        return 'yes'\n",
    "    else:\n",
    "        return 'no'"
   ]
  },
  {
   "cell_type": "code",
   "execution_count": 17,
   "metadata": {},
   "outputs": [
    {
     "data": {
      "text/html": [
       "<div>\n",
       "<style scoped>\n",
       "    .dataframe tbody tr th:only-of-type {\n",
       "        vertical-align: middle;\n",
       "    }\n",
       "\n",
       "    .dataframe tbody tr th {\n",
       "        vertical-align: top;\n",
       "    }\n",
       "\n",
       "    .dataframe thead th {\n",
       "        text-align: right;\n",
       "    }\n",
       "</style>\n",
       "<table border=\"1\" class=\"dataframe\">\n",
       "  <thead>\n",
       "    <tr style=\"text-align: right;\">\n",
       "      <th></th>\n",
       "      <th>brewery_name</th>\n",
       "      <th>beer_name</th>\n",
       "      <th>beer_style</th>\n",
       "      <th>beer_abv</th>\n",
       "      <th>num_reviews</th>\n",
       "      <th>rating</th>\n",
       "      <th>city</th>\n",
       "      <th>state</th>\n",
       "      <th>newvar</th>\n",
       "      <th>its_ale</th>\n",
       "    </tr>\n",
       "  </thead>\n",
       "  <tbody>\n",
       "    <tr>\n",
       "      <th>0</th>\n",
       "      <td>21st Amendment Brewery</td>\n",
       "      <td>21 Rock</td>\n",
       "      <td>American Double / Imperial IPA</td>\n",
       "      <td>9.7</td>\n",
       "      <td>2</td>\n",
       "      <td>4.00</td>\n",
       "      <td>San Francisco</td>\n",
       "      <td>CA</td>\n",
       "      <td>trouble</td>\n",
       "      <td>no</td>\n",
       "    </tr>\n",
       "    <tr>\n",
       "      <th>1</th>\n",
       "      <td>21st Amendment Brewery</td>\n",
       "      <td>21st Amendment IPA</td>\n",
       "      <td>American IPA</td>\n",
       "      <td>7.0</td>\n",
       "      <td>650</td>\n",
       "      <td>3.89</td>\n",
       "      <td>San Francisco</td>\n",
       "      <td>CA</td>\n",
       "      <td>no trouble</td>\n",
       "      <td>no</td>\n",
       "    </tr>\n",
       "    <tr>\n",
       "      <th>2</th>\n",
       "      <td>21st Amendment Brewery</td>\n",
       "      <td>21st Amendment Imperial Stout</td>\n",
       "      <td>Russian Imperial Stout</td>\n",
       "      <td>10.0</td>\n",
       "      <td>4</td>\n",
       "      <td>3.88</td>\n",
       "      <td>San Francisco</td>\n",
       "      <td>CA</td>\n",
       "      <td>no trouble</td>\n",
       "      <td>no</td>\n",
       "    </tr>\n",
       "    <tr>\n",
       "      <th>3</th>\n",
       "      <td>21st Amendment Brewery</td>\n",
       "      <td>21st Amendment Pale Ale</td>\n",
       "      <td>American Pale Ale (APA)</td>\n",
       "      <td>5.5</td>\n",
       "      <td>7</td>\n",
       "      <td>3.86</td>\n",
       "      <td>San Francisco</td>\n",
       "      <td>CA</td>\n",
       "      <td>no trouble</td>\n",
       "      <td>yes</td>\n",
       "    </tr>\n",
       "    <tr>\n",
       "      <th>4</th>\n",
       "      <td>21st Amendment Brewery</td>\n",
       "      <td>5-South</td>\n",
       "      <td>American Pale Ale (APA)</td>\n",
       "      <td>6.0</td>\n",
       "      <td>3</td>\n",
       "      <td>4.00</td>\n",
       "      <td>San Francisco</td>\n",
       "      <td>CA</td>\n",
       "      <td>no trouble</td>\n",
       "      <td>yes</td>\n",
       "    </tr>\n",
       "  </tbody>\n",
       "</table>\n",
       "</div>"
      ],
      "text/plain": [
       "             brewery_name                      beer_name  \\\n",
       "0  21st Amendment Brewery                        21 Rock   \n",
       "1  21st Amendment Brewery             21st Amendment IPA   \n",
       "2  21st Amendment Brewery  21st Amendment Imperial Stout   \n",
       "3  21st Amendment Brewery        21st Amendment Pale Ale   \n",
       "4  21st Amendment Brewery                        5-South   \n",
       "\n",
       "                       beer_style  beer_abv  num_reviews  rating  \\\n",
       "0  American Double / Imperial IPA       9.7            2    4.00   \n",
       "1                    American IPA       7.0          650    3.89   \n",
       "2          Russian Imperial Stout      10.0            4    3.88   \n",
       "3         American Pale Ale (APA)       5.5            7    3.86   \n",
       "4         American Pale Ale (APA)       6.0            3    4.00   \n",
       "\n",
       "            city state      newvar its_ale  \n",
       "0  San Francisco    CA     trouble      no  \n",
       "1  San Francisco    CA  no trouble      no  \n",
       "2  San Francisco    CA  no trouble      no  \n",
       "3  San Francisco    CA  no trouble     yes  \n",
       "4  San Francisco    CA  no trouble     yes  "
      ]
     },
     "execution_count": 17,
     "metadata": {},
     "output_type": "execute_result"
    }
   ],
   "source": [
    "# apply that \n",
    "beers['its_ale']=beers['beer_style'].apply(ale_finder)\n",
    "beers.head()"
   ]
  },
  {
   "cell_type": "markdown",
   "metadata": {},
   "source": [
    "## Get some beer dummies!"
   ]
  },
  {
   "cell_type": "code",
   "execution_count": 18,
   "metadata": {},
   "outputs": [],
   "source": [
    "# Let's shrink our dataset \n",
    "beers=beers[['beer_style', 'beer_abv']]"
   ]
  },
  {
   "cell_type": "code",
   "execution_count": 19,
   "metadata": {},
   "outputs": [],
   "source": [
    "beers['newcol']=beers['beer_style'].map({'American IPA':1, 'Russian Imperial Stout':0, 'American Pale Ale (APA)':3})"
   ]
  },
  {
   "cell_type": "code",
   "execution_count": 20,
   "metadata": {},
   "outputs": [],
   "source": [
    "# Now convert those beer styles to \"dummy\" columns\n",
    "beers2=pd.get_dummies(beers, columns = ['beer_style'], prefix='', prefix_sep='')"
   ]
  },
  {
   "cell_type": "code",
   "execution_count": 21,
   "metadata": {},
   "outputs": [
    {
     "data": {
      "text/plain": [
       "Index(['beer_abv', 'newcol', 'Altbier', 'American Adjunct Lager',\n",
       "       'American Amber / Red Ale', 'American Amber / Red Lager',\n",
       "       'American Barleywine', 'American Black Ale', 'American Blonde Ale',\n",
       "       'American Brown Ale', 'American Dark Wheat Ale',\n",
       "       'American Double / Imperial IPA', 'American Double / Imperial Pilsner',\n",
       "       'American Double / Imperial Stout', 'American IPA',\n",
       "       'American Malt Liquor', 'American Pale Ale (APA)',\n",
       "       'American Pale Lager', 'American Pale Wheat Ale', 'American Porter',\n",
       "       'American Stout', 'American Strong Ale', 'American Wild Ale',\n",
       "       'Baltic Porter', 'Belgian Dark Ale', 'Belgian IPA', 'Belgian Pale Ale',\n",
       "       'Belgian Strong Dark Ale', 'Belgian Strong Pale Ale',\n",
       "       'Berliner Weissbier', 'Bière de Garde', 'Black & Tan', 'Bock',\n",
       "       'Braggot', 'California Common / Steam Beer', 'Chile Beer', 'Cream Ale',\n",
       "       'Czech Pilsener', 'Doppelbock', 'Dortmunder / Export Lager', 'Dubbel',\n",
       "       'Dunkelweizen', 'Eisbock', 'English Barleywine', 'English Bitter',\n",
       "       'English Brown Ale', 'English Dark Mild Ale',\n",
       "       'English India Pale Ale (IPA)', 'English Pale Ale',\n",
       "       'English Pale Mild Ale', 'English Porter', 'English Stout',\n",
       "       'English Strong Ale', 'Euro Dark Lager', 'Euro Pale Lager',\n",
       "       'Euro Strong Lager', 'Extra Special / Strong Bitter (ESB)',\n",
       "       'Flanders Oud Bruin', 'Flanders Red Ale', 'Foreign / Export Stout',\n",
       "       'Fruit / Vegetable Beer', 'German Pilsener', 'Gose', 'Hefeweizen',\n",
       "       'Herbed / Spiced Beer', 'Irish Dry Stout', 'Irish Red Ale',\n",
       "       'Japanese Rice Lager', 'Keller Bier / Zwickel Bier', 'Kristalweizen',\n",
       "       'Kölsch', 'Lambic - Fruit', 'Lambic - Unblended', 'Light Lager',\n",
       "       'Low Alcohol Beer', 'Maibock / Helles Bock', 'Milk / Sweet Stout',\n",
       "       'Munich Dunkel Lager', 'Munich Helles Lager', 'Märzen / Oktoberfest',\n",
       "       'Oatmeal Stout', 'Old Ale', 'Pumpkin Ale', 'Quadrupel (Quad)',\n",
       "       'Rauchbier', 'Roggenbier', 'Russian Imperial Stout', 'Rye Beer',\n",
       "       'Saison / Farmhouse Ale', 'Schwarzbier', 'Scotch Ale / Wee Heavy',\n",
       "       'Scottish Ale', 'Scottish Gruit / Ancient Herbed Ale', 'Smoked Beer',\n",
       "       'Tripel', 'Vienna Lager', 'Weizenbock', 'Wheatwine', 'Winter Warmer',\n",
       "       'Witbier'],\n",
       "      dtype='object')"
      ]
     },
     "execution_count": 21,
     "metadata": {},
     "output_type": "execute_result"
    }
   ],
   "source": [
    "# We now have one column for every style!\n",
    "beers2.columns"
   ]
  },
  {
   "cell_type": "code",
   "execution_count": 22,
   "metadata": {},
   "outputs": [
    {
     "data": {
      "text/html": [
       "<div>\n",
       "<style scoped>\n",
       "    .dataframe tbody tr th:only-of-type {\n",
       "        vertical-align: middle;\n",
       "    }\n",
       "\n",
       "    .dataframe tbody tr th {\n",
       "        vertical-align: top;\n",
       "    }\n",
       "\n",
       "    .dataframe thead th {\n",
       "        text-align: right;\n",
       "    }\n",
       "</style>\n",
       "<table border=\"1\" class=\"dataframe\">\n",
       "  <thead>\n",
       "    <tr style=\"text-align: right;\">\n",
       "      <th></th>\n",
       "      <th>beer_abv</th>\n",
       "      <th>newcol</th>\n",
       "      <th>Altbier</th>\n",
       "      <th>American Adjunct Lager</th>\n",
       "      <th>American Amber / Red Ale</th>\n",
       "      <th>American Amber / Red Lager</th>\n",
       "      <th>American Barleywine</th>\n",
       "      <th>American Black Ale</th>\n",
       "      <th>American Blonde Ale</th>\n",
       "      <th>American Brown Ale</th>\n",
       "      <th>...</th>\n",
       "      <th>Scotch Ale / Wee Heavy</th>\n",
       "      <th>Scottish Ale</th>\n",
       "      <th>Scottish Gruit / Ancient Herbed Ale</th>\n",
       "      <th>Smoked Beer</th>\n",
       "      <th>Tripel</th>\n",
       "      <th>Vienna Lager</th>\n",
       "      <th>Weizenbock</th>\n",
       "      <th>Wheatwine</th>\n",
       "      <th>Winter Warmer</th>\n",
       "      <th>Witbier</th>\n",
       "    </tr>\n",
       "  </thead>\n",
       "  <tbody>\n",
       "    <tr>\n",
       "      <th>0</th>\n",
       "      <td>9.7</td>\n",
       "      <td>NaN</td>\n",
       "      <td>0</td>\n",
       "      <td>0</td>\n",
       "      <td>0</td>\n",
       "      <td>0</td>\n",
       "      <td>0</td>\n",
       "      <td>0</td>\n",
       "      <td>0</td>\n",
       "      <td>0</td>\n",
       "      <td>...</td>\n",
       "      <td>0</td>\n",
       "      <td>0</td>\n",
       "      <td>0</td>\n",
       "      <td>0</td>\n",
       "      <td>0</td>\n",
       "      <td>0</td>\n",
       "      <td>0</td>\n",
       "      <td>0</td>\n",
       "      <td>0</td>\n",
       "      <td>0</td>\n",
       "    </tr>\n",
       "    <tr>\n",
       "      <th>1</th>\n",
       "      <td>7.0</td>\n",
       "      <td>1.0</td>\n",
       "      <td>0</td>\n",
       "      <td>0</td>\n",
       "      <td>0</td>\n",
       "      <td>0</td>\n",
       "      <td>0</td>\n",
       "      <td>0</td>\n",
       "      <td>0</td>\n",
       "      <td>0</td>\n",
       "      <td>...</td>\n",
       "      <td>0</td>\n",
       "      <td>0</td>\n",
       "      <td>0</td>\n",
       "      <td>0</td>\n",
       "      <td>0</td>\n",
       "      <td>0</td>\n",
       "      <td>0</td>\n",
       "      <td>0</td>\n",
       "      <td>0</td>\n",
       "      <td>0</td>\n",
       "    </tr>\n",
       "    <tr>\n",
       "      <th>2</th>\n",
       "      <td>10.0</td>\n",
       "      <td>0.0</td>\n",
       "      <td>0</td>\n",
       "      <td>0</td>\n",
       "      <td>0</td>\n",
       "      <td>0</td>\n",
       "      <td>0</td>\n",
       "      <td>0</td>\n",
       "      <td>0</td>\n",
       "      <td>0</td>\n",
       "      <td>...</td>\n",
       "      <td>0</td>\n",
       "      <td>0</td>\n",
       "      <td>0</td>\n",
       "      <td>0</td>\n",
       "      <td>0</td>\n",
       "      <td>0</td>\n",
       "      <td>0</td>\n",
       "      <td>0</td>\n",
       "      <td>0</td>\n",
       "      <td>0</td>\n",
       "    </tr>\n",
       "    <tr>\n",
       "      <th>3</th>\n",
       "      <td>5.5</td>\n",
       "      <td>3.0</td>\n",
       "      <td>0</td>\n",
       "      <td>0</td>\n",
       "      <td>0</td>\n",
       "      <td>0</td>\n",
       "      <td>0</td>\n",
       "      <td>0</td>\n",
       "      <td>0</td>\n",
       "      <td>0</td>\n",
       "      <td>...</td>\n",
       "      <td>0</td>\n",
       "      <td>0</td>\n",
       "      <td>0</td>\n",
       "      <td>0</td>\n",
       "      <td>0</td>\n",
       "      <td>0</td>\n",
       "      <td>0</td>\n",
       "      <td>0</td>\n",
       "      <td>0</td>\n",
       "      <td>0</td>\n",
       "    </tr>\n",
       "    <tr>\n",
       "      <th>4</th>\n",
       "      <td>6.0</td>\n",
       "      <td>3.0</td>\n",
       "      <td>0</td>\n",
       "      <td>0</td>\n",
       "      <td>0</td>\n",
       "      <td>0</td>\n",
       "      <td>0</td>\n",
       "      <td>0</td>\n",
       "      <td>0</td>\n",
       "      <td>0</td>\n",
       "      <td>...</td>\n",
       "      <td>0</td>\n",
       "      <td>0</td>\n",
       "      <td>0</td>\n",
       "      <td>0</td>\n",
       "      <td>0</td>\n",
       "      <td>0</td>\n",
       "      <td>0</td>\n",
       "      <td>0</td>\n",
       "      <td>0</td>\n",
       "      <td>0</td>\n",
       "    </tr>\n",
       "  </tbody>\n",
       "</table>\n",
       "<p>5 rows × 100 columns</p>\n",
       "</div>"
      ],
      "text/plain": [
       "   beer_abv  newcol  Altbier  American Adjunct Lager  \\\n",
       "0       9.7     NaN        0                       0   \n",
       "1       7.0     1.0        0                       0   \n",
       "2      10.0     0.0        0                       0   \n",
       "3       5.5     3.0        0                       0   \n",
       "4       6.0     3.0        0                       0   \n",
       "\n",
       "   American Amber / Red Ale  American Amber / Red Lager  American Barleywine  \\\n",
       "0                         0                           0                    0   \n",
       "1                         0                           0                    0   \n",
       "2                         0                           0                    0   \n",
       "3                         0                           0                    0   \n",
       "4                         0                           0                    0   \n",
       "\n",
       "   American Black Ale  American Blonde Ale  American Brown Ale  ...  \\\n",
       "0                   0                    0                   0  ...   \n",
       "1                   0                    0                   0  ...   \n",
       "2                   0                    0                   0  ...   \n",
       "3                   0                    0                   0  ...   \n",
       "4                   0                    0                   0  ...   \n",
       "\n",
       "   Scotch Ale / Wee Heavy  Scottish Ale  Scottish Gruit / Ancient Herbed Ale  \\\n",
       "0                       0             0                                    0   \n",
       "1                       0             0                                    0   \n",
       "2                       0             0                                    0   \n",
       "3                       0             0                                    0   \n",
       "4                       0             0                                    0   \n",
       "\n",
       "   Smoked Beer  Tripel  Vienna Lager  Weizenbock  Wheatwine  Winter Warmer  \\\n",
       "0            0       0             0           0          0              0   \n",
       "1            0       0             0           0          0              0   \n",
       "2            0       0             0           0          0              0   \n",
       "3            0       0             0           0          0              0   \n",
       "4            0       0             0           0          0              0   \n",
       "\n",
       "   Witbier  \n",
       "0        0  \n",
       "1        0  \n",
       "2        0  \n",
       "3        0  \n",
       "4        0  \n",
       "\n",
       "[5 rows x 100 columns]"
      ]
     },
     "execution_count": 22,
     "metadata": {},
     "output_type": "execute_result"
    }
   ],
   "source": [
    "beers2.head()"
   ]
  },
  {
   "cell_type": "code",
   "execution_count": 23,
   "metadata": {},
   "outputs": [],
   "source": [
    "# Declare your target variable.\n",
    "y = beers2['beer_abv']"
   ]
  },
  {
   "cell_type": "code",
   "execution_count": 24,
   "metadata": {},
   "outputs": [],
   "source": [
    "# Declare your feature variables. We also drop the most frequent category as our \"comparison\".\n",
    "X = beers2.drop(['beer_abv', 'American IPA'], axis=1)"
   ]
  },
  {
   "cell_type": "markdown",
   "metadata": {},
   "source": [
    "## Split, fit and predict"
   ]
  },
  {
   "cell_type": "code",
   "execution_count": 25,
   "metadata": {},
   "outputs": [],
   "source": [
    "X_train, X_test, y_train, y_test = train_test_split(X, y, test_size=0.3, random_state=101)"
   ]
  },
  {
   "cell_type": "code",
   "execution_count": 26,
   "metadata": {},
   "outputs": [
    {
     "ename": "ValueError",
     "evalue": "Input contains NaN, infinity or a value too large for dtype('float64').",
     "output_type": "error",
     "traceback": [
      "\u001b[0;31m---------------------------------------------------------------------------\u001b[0m",
      "\u001b[0;31mValueError\u001b[0m                                Traceback (most recent call last)",
      "\u001b[0;32m<ipython-input-26-1cfc8c9ed90a>\u001b[0m in \u001b[0;36m<module>\u001b[0;34m\u001b[0m\n\u001b[1;32m      2\u001b[0m \u001b[0;34m\u001b[0m\u001b[0m\n\u001b[1;32m      3\u001b[0m \u001b[0mlinreg\u001b[0m \u001b[0;34m=\u001b[0m \u001b[0mLinearRegression\u001b[0m\u001b[0;34m(\u001b[0m\u001b[0;34m)\u001b[0m\u001b[0;34m\u001b[0m\u001b[0;34m\u001b[0m\u001b[0m\n\u001b[0;32m----> 4\u001b[0;31m \u001b[0mlinreg\u001b[0m\u001b[0;34m.\u001b[0m\u001b[0mfit\u001b[0m\u001b[0;34m(\u001b[0m\u001b[0mX\u001b[0m\u001b[0;34m,\u001b[0m \u001b[0my\u001b[0m\u001b[0;34m)\u001b[0m\u001b[0;34m\u001b[0m\u001b[0;34m\u001b[0m\u001b[0m\n\u001b[0m",
      "\u001b[0;32m/usr/local/anaconda3/lib/python3.8/site-packages/sklearn/linear_model/_base.py\u001b[0m in \u001b[0;36mfit\u001b[0;34m(self, X, y, sample_weight)\u001b[0m\n\u001b[1;32m    516\u001b[0m         \u001b[0maccept_sparse\u001b[0m \u001b[0;34m=\u001b[0m \u001b[0;32mFalse\u001b[0m \u001b[0;32mif\u001b[0m \u001b[0mself\u001b[0m\u001b[0;34m.\u001b[0m\u001b[0mpositive\u001b[0m \u001b[0;32melse\u001b[0m \u001b[0;34m[\u001b[0m\u001b[0;34m'csr'\u001b[0m\u001b[0;34m,\u001b[0m \u001b[0;34m'csc'\u001b[0m\u001b[0;34m,\u001b[0m \u001b[0;34m'coo'\u001b[0m\u001b[0;34m]\u001b[0m\u001b[0;34m\u001b[0m\u001b[0;34m\u001b[0m\u001b[0m\n\u001b[1;32m    517\u001b[0m \u001b[0;34m\u001b[0m\u001b[0m\n\u001b[0;32m--> 518\u001b[0;31m         X, y = self._validate_data(X, y, accept_sparse=accept_sparse,\n\u001b[0m\u001b[1;32m    519\u001b[0m                                    y_numeric=True, multi_output=True)\n\u001b[1;32m    520\u001b[0m \u001b[0;34m\u001b[0m\u001b[0m\n",
      "\u001b[0;32m/usr/local/anaconda3/lib/python3.8/site-packages/sklearn/base.py\u001b[0m in \u001b[0;36m_validate_data\u001b[0;34m(self, X, y, reset, validate_separately, **check_params)\u001b[0m\n\u001b[1;32m    431\u001b[0m                 \u001b[0my\u001b[0m \u001b[0;34m=\u001b[0m \u001b[0mcheck_array\u001b[0m\u001b[0;34m(\u001b[0m\u001b[0my\u001b[0m\u001b[0;34m,\u001b[0m \u001b[0;34m**\u001b[0m\u001b[0mcheck_y_params\u001b[0m\u001b[0;34m)\u001b[0m\u001b[0;34m\u001b[0m\u001b[0;34m\u001b[0m\u001b[0m\n\u001b[1;32m    432\u001b[0m             \u001b[0;32melse\u001b[0m\u001b[0;34m:\u001b[0m\u001b[0;34m\u001b[0m\u001b[0;34m\u001b[0m\u001b[0m\n\u001b[0;32m--> 433\u001b[0;31m                 \u001b[0mX\u001b[0m\u001b[0;34m,\u001b[0m \u001b[0my\u001b[0m \u001b[0;34m=\u001b[0m \u001b[0mcheck_X_y\u001b[0m\u001b[0;34m(\u001b[0m\u001b[0mX\u001b[0m\u001b[0;34m,\u001b[0m \u001b[0my\u001b[0m\u001b[0;34m,\u001b[0m \u001b[0;34m**\u001b[0m\u001b[0mcheck_params\u001b[0m\u001b[0;34m)\u001b[0m\u001b[0;34m\u001b[0m\u001b[0;34m\u001b[0m\u001b[0m\n\u001b[0m\u001b[1;32m    434\u001b[0m             \u001b[0mout\u001b[0m \u001b[0;34m=\u001b[0m \u001b[0mX\u001b[0m\u001b[0;34m,\u001b[0m \u001b[0my\u001b[0m\u001b[0;34m\u001b[0m\u001b[0;34m\u001b[0m\u001b[0m\n\u001b[1;32m    435\u001b[0m \u001b[0;34m\u001b[0m\u001b[0m\n",
      "\u001b[0;32m/usr/local/anaconda3/lib/python3.8/site-packages/sklearn/utils/validation.py\u001b[0m in \u001b[0;36minner_f\u001b[0;34m(*args, **kwargs)\u001b[0m\n\u001b[1;32m     61\u001b[0m             \u001b[0mextra_args\u001b[0m \u001b[0;34m=\u001b[0m \u001b[0mlen\u001b[0m\u001b[0;34m(\u001b[0m\u001b[0margs\u001b[0m\u001b[0;34m)\u001b[0m \u001b[0;34m-\u001b[0m \u001b[0mlen\u001b[0m\u001b[0;34m(\u001b[0m\u001b[0mall_args\u001b[0m\u001b[0;34m)\u001b[0m\u001b[0;34m\u001b[0m\u001b[0;34m\u001b[0m\u001b[0m\n\u001b[1;32m     62\u001b[0m             \u001b[0;32mif\u001b[0m \u001b[0mextra_args\u001b[0m \u001b[0;34m<=\u001b[0m \u001b[0;36m0\u001b[0m\u001b[0;34m:\u001b[0m\u001b[0;34m\u001b[0m\u001b[0;34m\u001b[0m\u001b[0m\n\u001b[0;32m---> 63\u001b[0;31m                 \u001b[0;32mreturn\u001b[0m \u001b[0mf\u001b[0m\u001b[0;34m(\u001b[0m\u001b[0;34m*\u001b[0m\u001b[0margs\u001b[0m\u001b[0;34m,\u001b[0m \u001b[0;34m**\u001b[0m\u001b[0mkwargs\u001b[0m\u001b[0;34m)\u001b[0m\u001b[0;34m\u001b[0m\u001b[0;34m\u001b[0m\u001b[0m\n\u001b[0m\u001b[1;32m     64\u001b[0m \u001b[0;34m\u001b[0m\u001b[0m\n\u001b[1;32m     65\u001b[0m             \u001b[0;31m# extra_args > 0\u001b[0m\u001b[0;34m\u001b[0m\u001b[0;34m\u001b[0m\u001b[0;34m\u001b[0m\u001b[0m\n",
      "\u001b[0;32m/usr/local/anaconda3/lib/python3.8/site-packages/sklearn/utils/validation.py\u001b[0m in \u001b[0;36mcheck_X_y\u001b[0;34m(X, y, accept_sparse, accept_large_sparse, dtype, order, copy, force_all_finite, ensure_2d, allow_nd, multi_output, ensure_min_samples, ensure_min_features, y_numeric, estimator)\u001b[0m\n\u001b[1;32m    812\u001b[0m         \u001b[0;32mraise\u001b[0m \u001b[0mValueError\u001b[0m\u001b[0;34m(\u001b[0m\u001b[0;34m\"y cannot be None\"\u001b[0m\u001b[0;34m)\u001b[0m\u001b[0;34m\u001b[0m\u001b[0;34m\u001b[0m\u001b[0m\n\u001b[1;32m    813\u001b[0m \u001b[0;34m\u001b[0m\u001b[0m\n\u001b[0;32m--> 814\u001b[0;31m     X = check_array(X, accept_sparse=accept_sparse,\n\u001b[0m\u001b[1;32m    815\u001b[0m                     \u001b[0maccept_large_sparse\u001b[0m\u001b[0;34m=\u001b[0m\u001b[0maccept_large_sparse\u001b[0m\u001b[0;34m,\u001b[0m\u001b[0;34m\u001b[0m\u001b[0;34m\u001b[0m\u001b[0m\n\u001b[1;32m    816\u001b[0m                     \u001b[0mdtype\u001b[0m\u001b[0;34m=\u001b[0m\u001b[0mdtype\u001b[0m\u001b[0;34m,\u001b[0m \u001b[0morder\u001b[0m\u001b[0;34m=\u001b[0m\u001b[0morder\u001b[0m\u001b[0;34m,\u001b[0m \u001b[0mcopy\u001b[0m\u001b[0;34m=\u001b[0m\u001b[0mcopy\u001b[0m\u001b[0;34m,\u001b[0m\u001b[0;34m\u001b[0m\u001b[0;34m\u001b[0m\u001b[0m\n",
      "\u001b[0;32m/usr/local/anaconda3/lib/python3.8/site-packages/sklearn/utils/validation.py\u001b[0m in \u001b[0;36minner_f\u001b[0;34m(*args, **kwargs)\u001b[0m\n\u001b[1;32m     61\u001b[0m             \u001b[0mextra_args\u001b[0m \u001b[0;34m=\u001b[0m \u001b[0mlen\u001b[0m\u001b[0;34m(\u001b[0m\u001b[0margs\u001b[0m\u001b[0;34m)\u001b[0m \u001b[0;34m-\u001b[0m \u001b[0mlen\u001b[0m\u001b[0;34m(\u001b[0m\u001b[0mall_args\u001b[0m\u001b[0;34m)\u001b[0m\u001b[0;34m\u001b[0m\u001b[0;34m\u001b[0m\u001b[0m\n\u001b[1;32m     62\u001b[0m             \u001b[0;32mif\u001b[0m \u001b[0mextra_args\u001b[0m \u001b[0;34m<=\u001b[0m \u001b[0;36m0\u001b[0m\u001b[0;34m:\u001b[0m\u001b[0;34m\u001b[0m\u001b[0;34m\u001b[0m\u001b[0m\n\u001b[0;32m---> 63\u001b[0;31m                 \u001b[0;32mreturn\u001b[0m \u001b[0mf\u001b[0m\u001b[0;34m(\u001b[0m\u001b[0;34m*\u001b[0m\u001b[0margs\u001b[0m\u001b[0;34m,\u001b[0m \u001b[0;34m**\u001b[0m\u001b[0mkwargs\u001b[0m\u001b[0;34m)\u001b[0m\u001b[0;34m\u001b[0m\u001b[0;34m\u001b[0m\u001b[0m\n\u001b[0m\u001b[1;32m     64\u001b[0m \u001b[0;34m\u001b[0m\u001b[0m\n\u001b[1;32m     65\u001b[0m             \u001b[0;31m# extra_args > 0\u001b[0m\u001b[0;34m\u001b[0m\u001b[0;34m\u001b[0m\u001b[0;34m\u001b[0m\u001b[0m\n",
      "\u001b[0;32m/usr/local/anaconda3/lib/python3.8/site-packages/sklearn/utils/validation.py\u001b[0m in \u001b[0;36mcheck_array\u001b[0;34m(array, accept_sparse, accept_large_sparse, dtype, order, copy, force_all_finite, ensure_2d, allow_nd, ensure_min_samples, ensure_min_features, estimator)\u001b[0m\n\u001b[1;32m    661\u001b[0m \u001b[0;34m\u001b[0m\u001b[0m\n\u001b[1;32m    662\u001b[0m         \u001b[0;32mif\u001b[0m \u001b[0mforce_all_finite\u001b[0m\u001b[0;34m:\u001b[0m\u001b[0;34m\u001b[0m\u001b[0;34m\u001b[0m\u001b[0m\n\u001b[0;32m--> 663\u001b[0;31m             _assert_all_finite(array,\n\u001b[0m\u001b[1;32m    664\u001b[0m                                allow_nan=force_all_finite == 'allow-nan')\n\u001b[1;32m    665\u001b[0m \u001b[0;34m\u001b[0m\u001b[0m\n",
      "\u001b[0;32m/usr/local/anaconda3/lib/python3.8/site-packages/sklearn/utils/validation.py\u001b[0m in \u001b[0;36m_assert_all_finite\u001b[0;34m(X, allow_nan, msg_dtype)\u001b[0m\n\u001b[1;32m    101\u001b[0m                 not allow_nan and not np.isfinite(X).all()):\n\u001b[1;32m    102\u001b[0m             \u001b[0mtype_err\u001b[0m \u001b[0;34m=\u001b[0m \u001b[0;34m'infinity'\u001b[0m \u001b[0;32mif\u001b[0m \u001b[0mallow_nan\u001b[0m \u001b[0;32melse\u001b[0m \u001b[0;34m'NaN, infinity'\u001b[0m\u001b[0;34m\u001b[0m\u001b[0;34m\u001b[0m\u001b[0m\n\u001b[0;32m--> 103\u001b[0;31m             raise ValueError(\n\u001b[0m\u001b[1;32m    104\u001b[0m                     \u001b[0mmsg_err\u001b[0m\u001b[0;34m.\u001b[0m\u001b[0mformat\u001b[0m\u001b[0;34m\u001b[0m\u001b[0;34m\u001b[0m\u001b[0m\n\u001b[1;32m    105\u001b[0m                     (type_err,\n",
      "\u001b[0;31mValueError\u001b[0m: Input contains NaN, infinity or a value too large for dtype('float64')."
     ]
    }
   ],
   "source": [
    "# instantiate the sklearn regression class and fit it to your training data.\n",
    "\n",
    "linreg = LinearRegression()\n",
    "linreg.fit(X, y)"
   ]
  },
  {
   "cell_type": "code",
   "execution_count": null,
   "metadata": {},
   "outputs": [],
   "source": [
    "# predict the y-values\n",
    "y_pred = linreg.predict(X_test)"
   ]
  },
  {
   "cell_type": "markdown",
   "metadata": {},
   "source": [
    "## Evaluate your model"
   ]
  },
  {
   "cell_type": "code",
   "execution_count": null,
   "metadata": {},
   "outputs": [],
   "source": [
    "from math import sqrt\n",
    "# On average, by how much value are we missing the mark?\n",
    "rmse = sqrt(metrics.mean_squared_error(y_test, y_pred))\n",
    "print('On average, our model errs by ', round(rmse))"
   ]
  },
  {
   "cell_type": "code",
   "execution_count": null,
   "metadata": {},
   "outputs": [],
   "source": [
    "# So... what if we just flipped a coin?\n",
    "avg_val=round(y_train.mean())\n",
    "print('The average ABV is', avg_val)\n",
    "\n",
    "# Then the average error of our model would be:\n",
    "comparison_array=np.full((len(y_test), ), avg_val)\n",
    "coin_flip=sqrt(metrics.mean_squared_error(y_test, comparison_array))\n",
    "print('If we just used that to predict ABV, our avg error would be:')\n",
    "print('ABV units',round( coin_flip))"
   ]
  },
  {
   "cell_type": "code",
   "execution_count": null,
   "metadata": {},
   "outputs": [],
   "source": [
    "# So is our model better than flipping a coin?\n",
    "print('A good model will reduce error!')\n",
    "print('ABV units', round(rmse-coin_flip))"
   ]
  },
  {
   "cell_type": "code",
   "execution_count": null,
   "metadata": {},
   "outputs": [],
   "source": [
    "# A higher R2 score indicates more variance explained.\n",
    "r2=metrics.r2_score(y_test, y_pred)\n",
    "r2"
   ]
  },
  {
   "cell_type": "code",
   "execution_count": null,
   "metadata": {},
   "outputs": [],
   "source": [
    "# Let's display our predictions vs. real values.\n",
    "plt.figure(figsize=(6, 6))\n",
    "sns.regplot(x=y_pred, y=y_test);"
   ]
  },
  {
   "cell_type": "markdown",
   "metadata": {},
   "source": [
    "### Check out a single prediction"
   ]
  },
  {
   "cell_type": "code",
   "execution_count": null,
   "metadata": {},
   "outputs": [],
   "source": [
    "# What's the first beer in the testing dataset? (Note that y_test keeps its original index).\n",
    "X_test.head()"
   ]
  },
  {
   "cell_type": "code",
   "execution_count": null,
   "metadata": {},
   "outputs": [],
   "source": [
    "# What type of beer is it?\n",
    "X_test.loc[843].head(20)"
   ]
  },
  {
   "cell_type": "code",
   "execution_count": null,
   "metadata": {},
   "outputs": [],
   "source": [
    "# How does its true ABV compare to its predicted ABV? (Note that for y_pred, the index has been reset)\n",
    "print('actual ABV', y_test[843])\n",
    "print('predicted ABV', round(y_pred[0]))"
   ]
  },
  {
   "cell_type": "code",
   "execution_count": null,
   "metadata": {},
   "outputs": [],
   "source": [
    "# Were there a lot of beers of that type?\n",
    "beer_filter=beers.loc[beers['beer_style']==\"American Wild Ale\"]\n",
    "print(len(beer_filter))\n",
    "print(beer_filter.head())"
   ]
  },
  {
   "cell_type": "code",
   "execution_count": null,
   "metadata": {},
   "outputs": [],
   "source": [
    "# What was the average ABV of all beers of that type?\n",
    "beer_filter['beer_abv'].mean()"
   ]
  },
  {
   "cell_type": "markdown",
   "metadata": {},
   "source": [
    "## add NLP to this analysis!"
   ]
  },
  {
   "cell_type": "code",
   "execution_count": null,
   "metadata": {},
   "outputs": [],
   "source": [
    "from sklearn.feature_extraction.text import CountVectorizer, TfidfVectorizer"
   ]
  },
  {
   "cell_type": "code",
   "execution_count": null,
   "metadata": {},
   "outputs": [],
   "source": [
    "my_vectorizer = CountVectorizer()"
   ]
  },
  {
   "cell_type": "code",
   "execution_count": null,
   "metadata": {},
   "outputs": [],
   "source": [
    "my_vectorizer"
   ]
  },
  {
   "cell_type": "code",
   "execution_count": null,
   "metadata": {},
   "outputs": [],
   "source": [
    "my_vectorizer.fit(beers['beer_style'])"
   ]
  },
  {
   "cell_type": "code",
   "execution_count": null,
   "metadata": {},
   "outputs": [],
   "source": [
    "styles_df=pd.DataFrame(my_vectorizer.transform(beers['beer_style']).todense(),\n",
    "                      columns=my_vectorizer.get_feature_names())"
   ]
  },
  {
   "cell_type": "code",
   "execution_count": null,
   "metadata": {},
   "outputs": [],
   "source": [
    "styles_df.head()"
   ]
  },
  {
   "cell_type": "code",
   "execution_count": null,
   "metadata": {},
   "outputs": [],
   "source": [
    "beers.head()"
   ]
  },
  {
   "cell_type": "code",
   "execution_count": null,
   "metadata": {},
   "outputs": [],
   "source": [
    "print(len(styles_df))\n",
    "print(len(beers))"
   ]
  },
  {
   "cell_type": "code",
   "execution_count": null,
   "metadata": {},
   "outputs": [],
   "source": [
    "styles_df['abv']=beers['beer_abv']"
   ]
  },
  {
   "cell_type": "code",
   "execution_count": null,
   "metadata": {},
   "outputs": [],
   "source": [
    "styles_df.head(3)"
   ]
  },
  {
   "cell_type": "markdown",
   "metadata": {},
   "source": [
    "## Linear Regression"
   ]
  },
  {
   "cell_type": "code",
   "execution_count": null,
   "metadata": {},
   "outputs": [],
   "source": [
    "y = styles_df['abv']\n",
    "X = styles_df.drop('abv', axis=1)"
   ]
  },
  {
   "cell_type": "code",
   "execution_count": null,
   "metadata": {},
   "outputs": [],
   "source": [
    "X_train, X_test, y_train, y_test = train_test_split(X, y, test_size=0.3, random_state=101)"
   ]
  },
  {
   "cell_type": "code",
   "execution_count": null,
   "metadata": {},
   "outputs": [],
   "source": [
    "# instantiate the sklearn regression class and fit it to your training data.\n",
    "\n",
    "linreg = LinearRegression()\n",
    "linreg.fit(X, y)"
   ]
  },
  {
   "cell_type": "code",
   "execution_count": null,
   "metadata": {},
   "outputs": [],
   "source": [
    "# predict the y-values\n",
    "y_pred = linreg.predict(X_test)"
   ]
  },
  {
   "cell_type": "code",
   "execution_count": null,
   "metadata": {},
   "outputs": [],
   "source": [
    "y_pred[:5]"
   ]
  },
  {
   "cell_type": "code",
   "execution_count": null,
   "metadata": {},
   "outputs": [],
   "source": [
    "list(y_test[:5])"
   ]
  },
  {
   "cell_type": "markdown",
   "metadata": {},
   "source": [
    "## Evaluate your model"
   ]
  },
  {
   "cell_type": "code",
   "execution_count": null,
   "metadata": {},
   "outputs": [],
   "source": [
    "from math import sqrt\n",
    "# On average, by how much value are we missing the mark?\n",
    "rmse = sqrt(metrics.mean_squared_error(y_test, y_pred))\n",
    "print('On average, our model errs by ', rmse)"
   ]
  },
  {
   "cell_type": "code",
   "execution_count": null,
   "metadata": {},
   "outputs": [],
   "source": [
    "# So is our model better than flipping a coin?\n",
    "print('A good model will reduce error!')\n",
    "print('ABV units', round(rmse-coin_flip))"
   ]
  },
  {
   "cell_type": "code",
   "execution_count": null,
   "metadata": {},
   "outputs": [],
   "source": [
    "# A higher R2 score indicates more variance explained.\n",
    "r2=metrics.r2_score(y_test, y_pred)\n",
    "r2"
   ]
  },
  {
   "cell_type": "code",
   "execution_count": null,
   "metadata": {},
   "outputs": [],
   "source": [
    "# Let's display our predictions vs. real values.\n",
    "plt.figure(figsize=(6, 6))\n",
    "sns.regplot(x=y_pred, y=y_test);"
   ]
  },
  {
   "cell_type": "code",
   "execution_count": null,
   "metadata": {},
   "outputs": [],
   "source": []
  }
 ],
 "metadata": {
  "kernelspec": {
   "display_name": "Python 3",
   "language": "python",
   "name": "python3"
  },
  "language_info": {
   "codemirror_mode": {
    "name": "ipython",
    "version": 3
   },
   "file_extension": ".py",
   "mimetype": "text/x-python",
   "name": "python",
   "nbconvert_exporter": "python",
   "pygments_lexer": "ipython3",
   "version": "3.8.2"
  }
 },
 "nbformat": 4,
 "nbformat_minor": 2
}
