{
 "cells": [
  {
   "cell_type": "markdown",
   "metadata": {},
   "source": [
    "# End-to-end machine learning project\n",
    "This notebook is a simplified version of the intro ML project presented by Aurelion Geron in pages 37-85.  \n",
    "For the complete original notebook, see the `aurelion` folder."
   ]
  },
  {
   "cell_type": "markdown",
   "metadata": {},
   "source": [
    "#### start with importing our Python libraries"
   ]
  },
  {
   "cell_type": "code",
   "execution_count": 1,
   "metadata": {},
   "outputs": [],
   "source": [
    "# common imports\n",
    "from pathlib import Path\n",
    "import os\n",
    "import numpy as np\n",
    "import pandas as pd\n",
    "\n",
    "# sci-kit learn is our one-stop shop for machine learning!\n",
    "import sklearn\n",
    "from sklearn.model_selection import train_test_split\n",
    "from sklearn.preprocessing import StandardScaler\n",
    "from sklearn.metrics import mean_squared_error\n",
    "from sklearn.metrics import mean_absolute_error\n",
    "from sklearn.linear_model import LinearRegression\n",
    "from sklearn import metrics\n",
    "\n",
    "# to make this notebook's output stable across runs\n",
    "np.random.seed(42)\n",
    "\n",
    "# To plot pretty figures\n",
    "%matplotlib inline\n",
    "import matplotlib as mpl\n",
    "import matplotlib.pyplot as plt\n",
    "mpl.rc('axes', labelsize=14)\n",
    "mpl.rc('xtick', labelsize=12)\n",
    "mpl.rc('ytick', labelsize=12)"
   ]
  },
  {
   "cell_type": "markdown",
   "metadata": {},
   "source": [
    "## Exploratory Data Analysis"
   ]
  },
  {
   "cell_type": "code",
   "execution_count": 2,
   "metadata": {},
   "outputs": [
    {
     "data": {
      "text/html": [
       "<div>\n",
       "<style scoped>\n",
       "    .dataframe tbody tr th:only-of-type {\n",
       "        vertical-align: middle;\n",
       "    }\n",
       "\n",
       "    .dataframe tbody tr th {\n",
       "        vertical-align: top;\n",
       "    }\n",
       "\n",
       "    .dataframe thead th {\n",
       "        text-align: right;\n",
       "    }\n",
       "</style>\n",
       "<table border=\"1\" class=\"dataframe\">\n",
       "  <thead>\n",
       "    <tr style=\"text-align: right;\">\n",
       "      <th></th>\n",
       "      <th>longitude</th>\n",
       "      <th>latitude</th>\n",
       "      <th>housing_median_age</th>\n",
       "      <th>total_rooms</th>\n",
       "      <th>total_bedrooms</th>\n",
       "      <th>population</th>\n",
       "      <th>households</th>\n",
       "      <th>median_income</th>\n",
       "      <th>median_house_value</th>\n",
       "      <th>ocean_proximity</th>\n",
       "    </tr>\n",
       "  </thead>\n",
       "  <tbody>\n",
       "    <tr>\n",
       "      <th>20046</th>\n",
       "      <td>-119.01</td>\n",
       "      <td>36.06</td>\n",
       "      <td>25.0</td>\n",
       "      <td>1505.0</td>\n",
       "      <td>NaN</td>\n",
       "      <td>1392.0</td>\n",
       "      <td>359.0</td>\n",
       "      <td>1.6812</td>\n",
       "      <td>47700.0</td>\n",
       "      <td>INLAND</td>\n",
       "    </tr>\n",
       "    <tr>\n",
       "      <th>3024</th>\n",
       "      <td>-119.46</td>\n",
       "      <td>35.14</td>\n",
       "      <td>30.0</td>\n",
       "      <td>2943.0</td>\n",
       "      <td>NaN</td>\n",
       "      <td>1565.0</td>\n",
       "      <td>584.0</td>\n",
       "      <td>2.5313</td>\n",
       "      <td>45800.0</td>\n",
       "      <td>INLAND</td>\n",
       "    </tr>\n",
       "    <tr>\n",
       "      <th>15663</th>\n",
       "      <td>-122.44</td>\n",
       "      <td>37.80</td>\n",
       "      <td>52.0</td>\n",
       "      <td>3830.0</td>\n",
       "      <td>NaN</td>\n",
       "      <td>1310.0</td>\n",
       "      <td>963.0</td>\n",
       "      <td>3.4801</td>\n",
       "      <td>500001.0</td>\n",
       "      <td>NEAR BAY</td>\n",
       "    </tr>\n",
       "    <tr>\n",
       "      <th>20484</th>\n",
       "      <td>-118.72</td>\n",
       "      <td>34.28</td>\n",
       "      <td>17.0</td>\n",
       "      <td>3051.0</td>\n",
       "      <td>NaN</td>\n",
       "      <td>1705.0</td>\n",
       "      <td>495.0</td>\n",
       "      <td>5.7376</td>\n",
       "      <td>218600.0</td>\n",
       "      <td>&lt;1H OCEAN</td>\n",
       "    </tr>\n",
       "    <tr>\n",
       "      <th>9814</th>\n",
       "      <td>-121.93</td>\n",
       "      <td>36.62</td>\n",
       "      <td>34.0</td>\n",
       "      <td>2351.0</td>\n",
       "      <td>NaN</td>\n",
       "      <td>1063.0</td>\n",
       "      <td>428.0</td>\n",
       "      <td>3.7250</td>\n",
       "      <td>278000.0</td>\n",
       "      <td>NEAR OCEAN</td>\n",
       "    </tr>\n",
       "  </tbody>\n",
       "</table>\n",
       "</div>"
      ],
      "text/plain": [
       "       longitude  latitude  housing_median_age  total_rooms  total_bedrooms  \\\n",
       "20046    -119.01     36.06                25.0       1505.0             NaN   \n",
       "3024     -119.46     35.14                30.0       2943.0             NaN   \n",
       "15663    -122.44     37.80                52.0       3830.0             NaN   \n",
       "20484    -118.72     34.28                17.0       3051.0             NaN   \n",
       "9814     -121.93     36.62                34.0       2351.0             NaN   \n",
       "\n",
       "       population  households  median_income  median_house_value  \\\n",
       "20046      1392.0       359.0         1.6812             47700.0   \n",
       "3024       1565.0       584.0         2.5313             45800.0   \n",
       "15663      1310.0       963.0         3.4801            500001.0   \n",
       "20484      1705.0       495.0         5.7376            218600.0   \n",
       "9814       1063.0       428.0         3.7250            278000.0   \n",
       "\n",
       "      ocean_proximity  \n",
       "20046          INLAND  \n",
       "3024           INLAND  \n",
       "15663        NEAR BAY  \n",
       "20484       <1H OCEAN  \n",
       "9814       NEAR OCEAN  "
      ]
     },
     "execution_count": 2,
     "metadata": {},
     "output_type": "execute_result"
    }
   ],
   "source": [
    "# read in the dataset\n",
    "filepath = Path.joinpath(Path.cwd().parent, 'data', 'housing.csv')\n",
    "housing = pd.read_csv(filepath)\n",
    "housing.sample(5)"
   ]
  },
  {
   "cell_type": "markdown",
   "metadata": {},
   "source": [
    "Decide what is our variable of interest (this is the item we want to predict, aka the Dependent Variable, labels, or target)"
   ]
  },
  {
   "cell_type": "code",
   "execution_count": 3,
   "metadata": {},
   "outputs": [
    {
     "data": {
      "text/plain": [
       "count     20640.000000\n",
       "mean     206855.816909\n",
       "std      115395.615874\n",
       "min       14999.000000\n",
       "25%      119600.000000\n",
       "50%      179700.000000\n",
       "75%      264725.000000\n",
       "max      500001.000000\n",
       "Name: median_house_value, dtype: float64"
      ]
     },
     "execution_count": 3,
     "metadata": {},
     "output_type": "execute_result"
    }
   ],
   "source": [
    "housing['median_house_value'].describe()"
   ]
  },
  {
   "cell_type": "markdown",
   "metadata": {},
   "source": [
    "#### What is the story of one row?\n",
    "\"In this chapter we chose the California Housing Prices dataset from the StatLib repository2 (see Figure 2-1). This dataset was based on data from the 1990 California census. It is not exactly recent (you could still afford a nice house in the Bay Area at the time), but it has many qualities for learning, so we will pretend it is recent data. We also added a categorical attribute and removed a few features for teaching purposes.\" \n",
    "\n",
    "\"Each row represents one district. There are 10 attributes (you can see the first 6 in the screenshot): longitude, latitude, housing_median_age, total_rooms, total_bed rooms, population, households, median_income, median_house_value, and ocean_proximity.\"  \n",
    "-- Geron, pg. 38"
   ]
  },
  {
   "cell_type": "markdown",
   "metadata": {},
   "source": [
    "## Feature Engineering"
   ]
  },
  {
   "cell_type": "code",
   "execution_count": 4,
   "metadata": {},
   "outputs": [],
   "source": [
    "# Create income categories\n",
    "housing[\"income_cat\"] = pd.cut(housing[\"median_income\"],\n",
    "                               bins=[0., 1.5, 3.0, 4.5, 6., np.inf],\n",
    "                               labels=[1, 2, 3, 4, 5])"
   ]
  },
  {
   "cell_type": "code",
   "execution_count": 5,
   "metadata": {},
   "outputs": [],
   "source": [
    "# Create some additional variables\n",
    "housing[\"rooms_per_hhold\"] = housing[\"total_rooms\"]/housing[\"households\"]\n",
    "housing[\"bedrooms_per_room\"] = housing[\"total_bedrooms\"]/housing[\"total_rooms\"]\n",
    "housing[\"pop_per_household\"]=housing[\"population\"]/housing[\"households\"]"
   ]
  },
  {
   "cell_type": "code",
   "execution_count": 6,
   "metadata": {},
   "outputs": [],
   "source": [
    "# Create dummy variables for ocean proximity\n",
    "housing=pd.get_dummies(housing, columns = ['ocean_proximity'], prefix='', prefix_sep='')"
   ]
  },
  {
   "cell_type": "code",
   "execution_count": 7,
   "metadata": {},
   "outputs": [
    {
     "data": {
      "text/plain": [
       "Index(['longitude', 'latitude', 'housing_median_age', 'total_rooms',\n",
       "       'total_bedrooms', 'population', 'households', 'median_income',\n",
       "       'median_house_value', 'income_cat', 'rooms_per_hhold',\n",
       "       'bedrooms_per_room', 'pop_per_household', '<1H OCEAN', 'INLAND',\n",
       "       'ISLAND', 'NEAR BAY', 'NEAR OCEAN'],\n",
       "      dtype='object')"
      ]
     },
     "execution_count": 7,
     "metadata": {},
     "output_type": "execute_result"
    }
   ],
   "source": [
    "# what are the variables?\n",
    "housing.columns"
   ]
  },
  {
   "cell_type": "markdown",
   "metadata": {},
   "source": [
    "## Prepare the data for Machine Learning algorithms"
   ]
  },
  {
   "cell_type": "markdown",
   "metadata": {},
   "source": [
    "#### Get rid of missing data\n",
    "Geron actually shows multiple options here (such as imputing the median) but we're just going to drop all rows with missing data."
   ]
  },
  {
   "cell_type": "code",
   "execution_count": 8,
   "metadata": {},
   "outputs": [
    {
     "name": "stdout",
     "output_type": "stream",
     "text": [
      "longitude               0\n",
      "latitude                0\n",
      "housing_median_age      0\n",
      "total_rooms             0\n",
      "total_bedrooms        207\n",
      "population              0\n",
      "households              0\n",
      "median_income           0\n",
      "median_house_value      0\n",
      "income_cat              0\n",
      "rooms_per_hhold         0\n",
      "bedrooms_per_room     207\n",
      "pop_per_household       0\n",
      "<1H OCEAN               0\n",
      "INLAND                  0\n",
      "ISLAND                  0\n",
      "NEAR BAY                0\n",
      "NEAR OCEAN              0\n",
      "dtype: int64\n"
     ]
    }
   ],
   "source": [
    "# sklearn cannot handle missing data. \n",
    "print(housing.isnull().sum())\n",
    "housing.dropna(axis=1, inplace=True)"
   ]
  },
  {
   "cell_type": "markdown",
   "metadata": {},
   "source": [
    "#### Feature scaling\n",
    "\"One of the most important transformations you need to apply to your data is feature scaling. With few exceptions, Machine Learning algorithms don’t perform well when the input numerical attributes have very different scales. This is the case for the hous‐ ing data: the total number of rooms ranges from about 6 to 39,320, while the median incomes only range from 0 to 15. Note that scaling the target values is generally not required.\n",
    "There are two common ways to get all attributes to have the same scale: min-max scaling (i.e., normalization) and standardization.\"  -- Geron, pg. 72\n",
    "\n",
    "\"Standardization is quite different: first it subtracts the mean value (so standardized values always have a zero mean), and then it divides by the standard deviation so that the resulting distribution has unit variance. Unlike min-max scaling, standardization does not bound values to a specific range, which may be a problem for some algo‐ rithms (e.g., neural networks often expect an input value ranging from 0 to 1). However, standardization is much less affected by outliers. For example, suppose a district had a median income equal to 100 (by mistake). Min-max scaling would then crush all the other values from 0–15 down to 0–0.15, whereas standardization would not be much affected. Scikit-Learn provides a transformer called StandardScaler for standardization.\"  -- Geron, pg. 73"
   ]
  },
  {
   "cell_type": "code",
   "execution_count": 9,
   "metadata": {},
   "outputs": [
    {
     "data": {
      "text/plain": [
       "Index(['longitude', 'latitude', 'housing_median_age', 'total_rooms',\n",
       "       'population', 'households', 'median_income', 'median_house_value',\n",
       "       'rooms_per_hhold', 'pop_per_household', '<1H OCEAN', 'INLAND', 'ISLAND',\n",
       "       'NEAR BAY', 'NEAR OCEAN'],\n",
       "      dtype='object')"
      ]
     },
     "execution_count": 9,
     "metadata": {},
     "output_type": "execute_result"
    }
   ],
   "source": [
    "# What are the numeric variables in my dataset?\n",
    "housing.describe().columns"
   ]
  },
  {
   "cell_type": "markdown",
   "metadata": {},
   "source": [
    "Note: Geron includes `median_house_value` in his scaling, but I do not. It's not actually necessary to scale your dependent variable (i.e., your target) and leaving it in the original metric makes the results a lot easier to interpret."
   ]
  },
  {
   "cell_type": "code",
   "execution_count": 10,
   "metadata": {},
   "outputs": [
    {
     "name": "stdout",
     "output_type": "stream",
     "text": [
      "Index(['longitude', 'latitude', 'housing_median_age', 'total_rooms',\n",
      "       'population', 'households', 'median_income', 'income_cat',\n",
      "       'rooms_per_hhold', 'pop_per_household', '<1H OCEAN', 'INLAND', 'ISLAND',\n",
      "       'NEAR BAY', 'NEAR OCEAN'],\n",
      "      dtype='object')\n"
     ]
    }
   ],
   "source": [
    "# For the purpose of scaling, make a list of only the numeric columns\n",
    "numeric_cols=housing.columns.drop(['median_house_value'])\n",
    "print(numeric_cols)"
   ]
  },
  {
   "cell_type": "markdown",
   "metadata": {},
   "source": [
    "Note: The following code only works because we dropped missing data earlier. This is pretty common in `sklearn` -- either drop or impute missing values at the start of your analysis!"
   ]
  },
  {
   "cell_type": "code",
   "execution_count": 39,
   "metadata": {},
   "outputs": [
    {
     "data": {
      "text/plain": [
       "StandardScaler()"
      ]
     },
     "execution_count": 39,
     "metadata": {},
     "output_type": "execute_result"
    }
   ],
   "source": [
    "# \"Instantiate\" the scaler (create an instance of the sklearn class)\n",
    "std_scaler = StandardScaler()\n",
    "std_scaler"
   ]
  },
  {
   "cell_type": "code",
   "execution_count": 32,
   "metadata": {},
   "outputs": [
    {
     "data": {
      "text/plain": [
       "array([[-1.32783522,  1.05254828,  0.98214266, -0.8048191 , -0.9744286 ,\n",
       "        -0.97703285,  2.34476576,  1.89012782,  0.62855945, -0.04959654,\n",
       "        -0.89115574, -0.68188905, -0.01556621,  2.83074203, -0.38446649],\n",
       "       [-1.32284391,  1.04318455, -0.60701891,  2.0458901 ,  0.86143887,\n",
       "         1.66996103,  2.33223796,  1.89012782,  0.32704136, -0.09251223,\n",
       "        -0.89115574, -0.68188905, -0.01556621,  2.83074203, -0.38446649]])"
      ]
     },
     "execution_count": 32,
     "metadata": {},
     "output_type": "execute_result"
    }
   ],
   "source": [
    "# 'Fit' the scaler to our data\n",
    "scaled_results = std_scaler.fit_transform(housing[numeric_cols])\n",
    "scaled_results[:2]"
   ]
  },
  {
   "cell_type": "code",
   "execution_count": 33,
   "metadata": {},
   "outputs": [
    {
     "data": {
      "text/html": [
       "<div>\n",
       "<style scoped>\n",
       "    .dataframe tbody tr th:only-of-type {\n",
       "        vertical-align: middle;\n",
       "    }\n",
       "\n",
       "    .dataframe tbody tr th {\n",
       "        vertical-align: top;\n",
       "    }\n",
       "\n",
       "    .dataframe thead th {\n",
       "        text-align: right;\n",
       "    }\n",
       "</style>\n",
       "<table border=\"1\" class=\"dataframe\">\n",
       "  <thead>\n",
       "    <tr style=\"text-align: right;\">\n",
       "      <th></th>\n",
       "      <th>longitude</th>\n",
       "      <th>latitude</th>\n",
       "      <th>housing_median_age</th>\n",
       "      <th>total_rooms</th>\n",
       "      <th>population</th>\n",
       "      <th>households</th>\n",
       "      <th>median_income</th>\n",
       "      <th>income_cat</th>\n",
       "      <th>rooms_per_hhold</th>\n",
       "      <th>pop_per_household</th>\n",
       "      <th>&lt;1H OCEAN</th>\n",
       "      <th>INLAND</th>\n",
       "      <th>ISLAND</th>\n",
       "      <th>NEAR BAY</th>\n",
       "      <th>NEAR OCEAN</th>\n",
       "    </tr>\n",
       "  </thead>\n",
       "  <tbody>\n",
       "    <tr>\n",
       "      <th>0</th>\n",
       "      <td>-1.327835</td>\n",
       "      <td>1.052548</td>\n",
       "      <td>0.982143</td>\n",
       "      <td>-0.804819</td>\n",
       "      <td>-0.974429</td>\n",
       "      <td>-0.977033</td>\n",
       "      <td>2.344766</td>\n",
       "      <td>1.890128</td>\n",
       "      <td>0.628559</td>\n",
       "      <td>-0.049597</td>\n",
       "      <td>-0.891156</td>\n",
       "      <td>-0.681889</td>\n",
       "      <td>-0.015566</td>\n",
       "      <td>2.830742</td>\n",
       "      <td>-0.384466</td>\n",
       "    </tr>\n",
       "    <tr>\n",
       "      <th>1</th>\n",
       "      <td>-1.322844</td>\n",
       "      <td>1.043185</td>\n",
       "      <td>-0.607019</td>\n",
       "      <td>2.045890</td>\n",
       "      <td>0.861439</td>\n",
       "      <td>1.669961</td>\n",
       "      <td>2.332238</td>\n",
       "      <td>1.890128</td>\n",
       "      <td>0.327041</td>\n",
       "      <td>-0.092512</td>\n",
       "      <td>-0.891156</td>\n",
       "      <td>-0.681889</td>\n",
       "      <td>-0.015566</td>\n",
       "      <td>2.830742</td>\n",
       "      <td>-0.384466</td>\n",
       "    </tr>\n",
       "    <tr>\n",
       "      <th>2</th>\n",
       "      <td>-1.332827</td>\n",
       "      <td>1.038503</td>\n",
       "      <td>1.856182</td>\n",
       "      <td>-0.535746</td>\n",
       "      <td>-0.820777</td>\n",
       "      <td>-0.843637</td>\n",
       "      <td>1.782699</td>\n",
       "      <td>1.890128</td>\n",
       "      <td>1.155620</td>\n",
       "      <td>-0.025843</td>\n",
       "      <td>-0.891156</td>\n",
       "      <td>-0.681889</td>\n",
       "      <td>-0.015566</td>\n",
       "      <td>2.830742</td>\n",
       "      <td>-0.384466</td>\n",
       "    </tr>\n",
       "    <tr>\n",
       "      <th>3</th>\n",
       "      <td>-1.337818</td>\n",
       "      <td>1.038503</td>\n",
       "      <td>1.856182</td>\n",
       "      <td>-0.624215</td>\n",
       "      <td>-0.766028</td>\n",
       "      <td>-0.733781</td>\n",
       "      <td>0.932968</td>\n",
       "      <td>0.941894</td>\n",
       "      <td>0.156966</td>\n",
       "      <td>-0.050329</td>\n",
       "      <td>-0.891156</td>\n",
       "      <td>-0.681889</td>\n",
       "      <td>-0.015566</td>\n",
       "      <td>2.830742</td>\n",
       "      <td>-0.384466</td>\n",
       "    </tr>\n",
       "    <tr>\n",
       "      <th>4</th>\n",
       "      <td>-1.337818</td>\n",
       "      <td>1.038503</td>\n",
       "      <td>1.856182</td>\n",
       "      <td>-0.462404</td>\n",
       "      <td>-0.759847</td>\n",
       "      <td>-0.629157</td>\n",
       "      <td>-0.012881</td>\n",
       "      <td>-0.006340</td>\n",
       "      <td>0.344711</td>\n",
       "      <td>-0.085616</td>\n",
       "      <td>-0.891156</td>\n",
       "      <td>-0.681889</td>\n",
       "      <td>-0.015566</td>\n",
       "      <td>2.830742</td>\n",
       "      <td>-0.384466</td>\n",
       "    </tr>\n",
       "  </tbody>\n",
       "</table>\n",
       "</div>"
      ],
      "text/plain": [
       "   longitude  latitude  housing_median_age  total_rooms  population  \\\n",
       "0  -1.327835  1.052548            0.982143    -0.804819   -0.974429   \n",
       "1  -1.322844  1.043185           -0.607019     2.045890    0.861439   \n",
       "2  -1.332827  1.038503            1.856182    -0.535746   -0.820777   \n",
       "3  -1.337818  1.038503            1.856182    -0.624215   -0.766028   \n",
       "4  -1.337818  1.038503            1.856182    -0.462404   -0.759847   \n",
       "\n",
       "   households  median_income  income_cat  rooms_per_hhold  pop_per_household  \\\n",
       "0   -0.977033       2.344766    1.890128         0.628559          -0.049597   \n",
       "1    1.669961       2.332238    1.890128         0.327041          -0.092512   \n",
       "2   -0.843637       1.782699    1.890128         1.155620          -0.025843   \n",
       "3   -0.733781       0.932968    0.941894         0.156966          -0.050329   \n",
       "4   -0.629157      -0.012881   -0.006340         0.344711          -0.085616   \n",
       "\n",
       "   <1H OCEAN    INLAND    ISLAND  NEAR BAY  NEAR OCEAN  \n",
       "0  -0.891156 -0.681889 -0.015566  2.830742   -0.384466  \n",
       "1  -0.891156 -0.681889 -0.015566  2.830742   -0.384466  \n",
       "2  -0.891156 -0.681889 -0.015566  2.830742   -0.384466  \n",
       "3  -0.891156 -0.681889 -0.015566  2.830742   -0.384466  \n",
       "4  -0.891156 -0.681889 -0.015566  2.830742   -0.384466  "
      ]
     },
     "execution_count": 33,
     "metadata": {},
     "output_type": "execute_result"
    }
   ],
   "source": [
    "# convert those results into a dataframe\n",
    "scaled_df = pd.DataFrame(scaled_results, columns=numeric_cols)\n",
    "scaled_df.head()"
   ]
  },
  {
   "cell_type": "code",
   "execution_count": 38,
   "metadata": {},
   "outputs": [],
   "source": [
    "# Drop the original numeric columns\n",
    "housing = housing.drop(numeric_cols, axis=1)"
   ]
  },
  {
   "cell_type": "code",
   "execution_count": 37,
   "metadata": {},
   "outputs": [],
   "source": [
    "# Merge that sub-dataframe back into the updated original housing dataframe\n",
    "housing = pd.concat([housing, scaled_df], axis=1)"
   ]
  },
  {
   "cell_type": "code",
   "execution_count": 36,
   "metadata": {},
   "outputs": [
    {
     "data": {
      "text/html": [
       "<div>\n",
       "<style scoped>\n",
       "    .dataframe tbody tr th:only-of-type {\n",
       "        vertical-align: middle;\n",
       "    }\n",
       "\n",
       "    .dataframe tbody tr th {\n",
       "        vertical-align: top;\n",
       "    }\n",
       "\n",
       "    .dataframe thead th {\n",
       "        text-align: right;\n",
       "    }\n",
       "</style>\n",
       "<table border=\"1\" class=\"dataframe\">\n",
       "  <thead>\n",
       "    <tr style=\"text-align: right;\">\n",
       "      <th></th>\n",
       "      <th>median_house_value</th>\n",
       "      <th>longitude</th>\n",
       "      <th>latitude</th>\n",
       "      <th>housing_median_age</th>\n",
       "      <th>total_rooms</th>\n",
       "      <th>population</th>\n",
       "      <th>households</th>\n",
       "      <th>median_income</th>\n",
       "      <th>income_cat</th>\n",
       "      <th>rooms_per_hhold</th>\n",
       "      <th>pop_per_household</th>\n",
       "      <th>&lt;1H OCEAN</th>\n",
       "      <th>INLAND</th>\n",
       "      <th>ISLAND</th>\n",
       "      <th>NEAR BAY</th>\n",
       "      <th>NEAR OCEAN</th>\n",
       "    </tr>\n",
       "  </thead>\n",
       "  <tbody>\n",
       "    <tr>\n",
       "      <th>12833</th>\n",
       "      <td>105200.0</td>\n",
       "      <td>-0.918548</td>\n",
       "      <td>1.431779</td>\n",
       "      <td>-0.050812</td>\n",
       "      <td>-0.474322</td>\n",
       "      <td>-0.509943</td>\n",
       "      <td>-0.508839</td>\n",
       "      <td>-0.119894</td>\n",
       "      <td>-0.006340</td>\n",
       "      <td>-0.072680</td>\n",
       "      <td>-0.027954</td>\n",
       "      <td>-0.891156</td>\n",
       "      <td>1.466514</td>\n",
       "      <td>-0.015566</td>\n",
       "      <td>-0.353264</td>\n",
       "      <td>-0.384466</td>\n",
       "    </tr>\n",
       "    <tr>\n",
       "      <th>18155</th>\n",
       "      <td>381800.0</td>\n",
       "      <td>-1.242983</td>\n",
       "      <td>0.804409</td>\n",
       "      <td>0.187562</td>\n",
       "      <td>-0.385395</td>\n",
       "      <td>-0.488749</td>\n",
       "      <td>-0.568998</td>\n",
       "      <td>2.205118</td>\n",
       "      <td>1.890128</td>\n",
       "      <td>0.378418</td>\n",
       "      <td>0.002074</td>\n",
       "      <td>1.122138</td>\n",
       "      <td>-0.681889</td>\n",
       "      <td>-0.015566</td>\n",
       "      <td>-0.353264</td>\n",
       "      <td>-0.384466</td>\n",
       "    </tr>\n",
       "    <tr>\n",
       "      <th>6640</th>\n",
       "      <td>162500.0</td>\n",
       "      <td>0.708618</td>\n",
       "      <td>-0.689106</td>\n",
       "      <td>1.856182</td>\n",
       "      <td>-0.325805</td>\n",
       "      <td>0.735162</td>\n",
       "      <td>0.247071</td>\n",
       "      <td>-1.146752</td>\n",
       "      <td>-0.954574</td>\n",
       "      <td>-0.884462</td>\n",
       "      <td>0.070355</td>\n",
       "      <td>1.122138</td>\n",
       "      <td>-0.681889</td>\n",
       "      <td>-0.015566</td>\n",
       "      <td>-0.353264</td>\n",
       "      <td>-0.384466</td>\n",
       "    </tr>\n",
       "    <tr>\n",
       "      <th>8799</th>\n",
       "      <td>500001.0</td>\n",
       "      <td>0.598809</td>\n",
       "      <td>-0.871699</td>\n",
       "      <td>-0.209729</td>\n",
       "      <td>1.697516</td>\n",
       "      <td>0.984183</td>\n",
       "      <td>0.995135</td>\n",
       "      <td>3.302510</td>\n",
       "      <td>1.890128</td>\n",
       "      <td>0.717190</td>\n",
       "      <td>-0.017745</td>\n",
       "      <td>-0.891156</td>\n",
       "      <td>-0.681889</td>\n",
       "      <td>-0.015566</td>\n",
       "      <td>-0.353264</td>\n",
       "      <td>2.601007</td>\n",
       "    </tr>\n",
       "    <tr>\n",
       "      <th>12964</th>\n",
       "      <td>102000.0</td>\n",
       "      <td>-0.868635</td>\n",
       "      <td>1.441143</td>\n",
       "      <td>-0.845393</td>\n",
       "      <td>0.624432</td>\n",
       "      <td>0.570031</td>\n",
       "      <td>0.419701</td>\n",
       "      <td>0.269995</td>\n",
       "      <td>-0.006340</td>\n",
       "      <td>0.254061</td>\n",
       "      <td>0.006473</td>\n",
       "      <td>-0.891156</td>\n",
       "      <td>1.466514</td>\n",
       "      <td>-0.015566</td>\n",
       "      <td>-0.353264</td>\n",
       "      <td>-0.384466</td>\n",
       "    </tr>\n",
       "  </tbody>\n",
       "</table>\n",
       "</div>"
      ],
      "text/plain": [
       "       median_house_value  longitude  latitude  housing_median_age  \\\n",
       "12833            105200.0  -0.918548  1.431779           -0.050812   \n",
       "18155            381800.0  -1.242983  0.804409            0.187562   \n",
       "6640             162500.0   0.708618 -0.689106            1.856182   \n",
       "8799             500001.0   0.598809 -0.871699           -0.209729   \n",
       "12964            102000.0  -0.868635  1.441143           -0.845393   \n",
       "\n",
       "       total_rooms  population  households  median_income  income_cat  \\\n",
       "12833    -0.474322   -0.509943   -0.508839      -0.119894   -0.006340   \n",
       "18155    -0.385395   -0.488749   -0.568998       2.205118    1.890128   \n",
       "6640     -0.325805    0.735162    0.247071      -1.146752   -0.954574   \n",
       "8799      1.697516    0.984183    0.995135       3.302510    1.890128   \n",
       "12964     0.624432    0.570031    0.419701       0.269995   -0.006340   \n",
       "\n",
       "       rooms_per_hhold  pop_per_household  <1H OCEAN    INLAND    ISLAND  \\\n",
       "12833        -0.072680          -0.027954  -0.891156  1.466514 -0.015566   \n",
       "18155         0.378418           0.002074   1.122138 -0.681889 -0.015566   \n",
       "6640         -0.884462           0.070355   1.122138 -0.681889 -0.015566   \n",
       "8799          0.717190          -0.017745  -0.891156 -0.681889 -0.015566   \n",
       "12964         0.254061           0.006473  -0.891156  1.466514 -0.015566   \n",
       "\n",
       "       NEAR BAY  NEAR OCEAN  \n",
       "12833 -0.353264   -0.384466  \n",
       "18155 -0.353264   -0.384466  \n",
       "6640  -0.353264   -0.384466  \n",
       "8799  -0.353264    2.601007  \n",
       "12964 -0.353264   -0.384466  "
      ]
     },
     "execution_count": 36,
     "metadata": {},
     "output_type": "execute_result"
    }
   ],
   "source": [
    "# Display a sample of those results \n",
    "housing.sample(5)"
   ]
  },
  {
   "cell_type": "markdown",
   "metadata": {},
   "source": [
    "#### Train-test split"
   ]
  },
  {
   "cell_type": "markdown",
   "metadata": {},
   "source": [
    "\"The only way to know how well a model will generalize to new cases is to actually try it out on new cases. One way to do that is to put your model in production and moni‐ tor how well it performs. This works well, but if your model is horribly bad, your users will complain—not the best idea.\n",
    "A better option is to split your data into two sets: the training set and the test set. As these names imply, you train your model using the training set, and you test it using the test set. The error rate on new cases is called the generalization error (or out-of- sample error), and by evaluating your model on the test set, you get an estimate of this error. This value tells you how well your model will perform on instances it has never seen before.\"  -- Geron, pg. 31"
   ]
  },
  {
   "cell_type": "code",
   "execution_count": 12,
   "metadata": {},
   "outputs": [
    {
     "name": "stdout",
     "output_type": "stream",
     "text": [
      "(20640,)\n",
      "(20640, 14)\n"
     ]
    }
   ],
   "source": [
    "# First, split your data into features (X) and labels (y).\n",
    "y = housing[\"median_house_value\"].copy()\n",
    "X = housing.drop([\"median_house_value\", \"<1H OCEAN\"], axis=1)\n",
    "# Compare their shapes.\n",
    "print(y.shape)\n",
    "print(X.shape)"
   ]
  },
  {
   "cell_type": "code",
   "execution_count": 13,
   "metadata": {},
   "outputs": [],
   "source": [
    "# Now, split both X and y data into training and testing sets.\n",
    "X_train, X_test, y_train, y_test = train_test_split(X, y, \n",
    "                                       test_size=0.2, \n",
    "                                       random_state=42)"
   ]
  },
  {
   "cell_type": "code",
   "execution_count": 14,
   "metadata": {},
   "outputs": [
    {
     "name": "stdout",
     "output_type": "stream",
     "text": [
      "(16512, 14)\n",
      "(16512,)\n",
      "(4128, 14)\n",
      "(4128,)\n"
     ]
    }
   ],
   "source": [
    "# Compare the shapes to confirm this did what you wanted.\n",
    "print(X_train.shape)\n",
    "print(y_train.shape)\n",
    "print(X_test.shape)\n",
    "print(y_test.shape)"
   ]
  },
  {
   "cell_type": "markdown",
   "metadata": {},
   "source": [
    "## Select and train a model"
   ]
  },
  {
   "cell_type": "code",
   "execution_count": 15,
   "metadata": {},
   "outputs": [
    {
     "data": {
      "text/plain": [
       "LinearRegression()"
      ]
     },
     "execution_count": 15,
     "metadata": {},
     "output_type": "execute_result"
    }
   ],
   "source": [
    "# Create a local instance of the sklearn class, and show its options\n",
    "lin_reg = LinearRegression()\n",
    "lin_reg"
   ]
  },
  {
   "cell_type": "code",
   "execution_count": 16,
   "metadata": {},
   "outputs": [
    {
     "data": {
      "text/plain": [
       "LinearRegression()"
      ]
     },
     "execution_count": 16,
     "metadata": {},
     "output_type": "execute_result"
    }
   ],
   "source": [
    "# Fit your instance to the training dataset\n",
    "lin_reg.fit(X_train, y_train)"
   ]
  },
  {
   "cell_type": "markdown",
   "metadata": {},
   "source": [
    "## Make predictions on your testing dataset"
   ]
  },
  {
   "cell_type": "code",
   "execution_count": 17,
   "metadata": {},
   "outputs": [],
   "source": [
    "# Make predictions on the testing dataset\n",
    "y_preds = lin_reg.predict(X_test)"
   ]
  },
  {
   "cell_type": "code",
   "execution_count": 18,
   "metadata": {},
   "outputs": [
    {
     "data": {
      "text/plain": [
       "array([ 48646.36079914, 142586.97421779, 319088.42978437, ...,\n",
       "       434697.81249877, 122516.33885779, 181666.30421855])"
      ]
     },
     "execution_count": 18,
     "metadata": {},
     "output_type": "execute_result"
    }
   ],
   "source": [
    "# Examine your predictions\n",
    "y_preds"
   ]
  },
  {
   "cell_type": "code",
   "execution_count": 19,
   "metadata": {},
   "outputs": [
    {
     "name": "stdout",
     "output_type": "stream",
     "text": [
      "true values: [47700.0, 45800.0, 500001.0, 218600.0, 278000.0]\n",
      "predicted values: [48646.4, 142587.0, 319088.4, 276866.0, 266687.2]\n"
     ]
    }
   ],
   "source": [
    "# How do the first five predictions compare to the first five actual values?\n",
    "true_5=list(round(y_test[:5], 1))\n",
    "pred_5=[round(x,1) for x in list(y_preds[:5])]\n",
    "print('true values:', true_5)\n",
    "print('predicted values:', pred_5)"
   ]
  },
  {
   "cell_type": "code",
   "execution_count": 20,
   "metadata": {},
   "outputs": [
    {
     "data": {
      "text/html": [
       "<div>\n",
       "<style scoped>\n",
       "    .dataframe tbody tr th:only-of-type {\n",
       "        vertical-align: middle;\n",
       "    }\n",
       "\n",
       "    .dataframe tbody tr th {\n",
       "        vertical-align: top;\n",
       "    }\n",
       "\n",
       "    .dataframe thead th {\n",
       "        text-align: right;\n",
       "    }\n",
       "</style>\n",
       "<table border=\"1\" class=\"dataframe\">\n",
       "  <thead>\n",
       "    <tr style=\"text-align: right;\">\n",
       "      <th></th>\n",
       "      <th>district</th>\n",
       "      <th>true</th>\n",
       "      <th>predicted</th>\n",
       "    </tr>\n",
       "  </thead>\n",
       "  <tbody>\n",
       "    <tr>\n",
       "      <th>0</th>\n",
       "      <td>district0</td>\n",
       "      <td>47700.0</td>\n",
       "      <td>48646.4</td>\n",
       "    </tr>\n",
       "    <tr>\n",
       "      <th>1</th>\n",
       "      <td>district1</td>\n",
       "      <td>45800.0</td>\n",
       "      <td>142587.0</td>\n",
       "    </tr>\n",
       "    <tr>\n",
       "      <th>2</th>\n",
       "      <td>district2</td>\n",
       "      <td>500001.0</td>\n",
       "      <td>319088.4</td>\n",
       "    </tr>\n",
       "    <tr>\n",
       "      <th>3</th>\n",
       "      <td>district3</td>\n",
       "      <td>218600.0</td>\n",
       "      <td>276866.0</td>\n",
       "    </tr>\n",
       "    <tr>\n",
       "      <th>4</th>\n",
       "      <td>distict4</td>\n",
       "      <td>278000.0</td>\n",
       "      <td>266687.2</td>\n",
       "    </tr>\n",
       "  </tbody>\n",
       "</table>\n",
       "</div>"
      ],
      "text/plain": [
       "    district      true  predicted\n",
       "0  district0   47700.0    48646.4\n",
       "1  district1   45800.0   142587.0\n",
       "2  district2  500001.0   319088.4\n",
       "3  district3  218600.0   276866.0\n",
       "4   distict4  278000.0   266687.2"
      ]
     },
     "execution_count": 20,
     "metadata": {},
     "output_type": "execute_result"
    }
   ],
   "source": [
    "# How do we intepret those results?\n",
    "first_5=['district0', 'district1', 'district2', 'district3', 'distict4']\n",
    "pd.DataFrame(list(zip(first_5, true_5, pred_5)), columns=['district', 'true', 'predicted'])"
   ]
  },
  {
   "cell_type": "markdown",
   "metadata": {},
   "source": [
    "## Examine the feature importances"
   ]
  },
  {
   "cell_type": "code",
   "execution_count": 21,
   "metadata": {},
   "outputs": [
    {
     "name": "stdout",
     "output_type": "stream",
     "text": [
      "Index(['longitude', 'latitude', 'housing_median_age', 'total_rooms',\n",
      "       'population', 'households', 'median_income', 'income_cat',\n",
      "       'rooms_per_hhold', 'pop_per_household', 'INLAND', 'ISLAND', 'NEAR BAY',\n",
      "       'NEAR OCEAN'],\n",
      "      dtype='object')\n",
      "[-53268.34535202 -55032.35983727  14081.81699242 -10368.86127772\n",
      " -47000.69645518  62124.21352743  62035.1974818    9993.28718\n",
      "   7292.38867003   1081.51207051 -18657.47498636   2293.29683112\n",
      "  -1267.70465266   1316.39289871]\n"
     ]
    }
   ],
   "source": [
    "# 'Attributes' is another name for our list of features (aka predictors, independent variables)\n",
    "attributes=X_test.columns\n",
    "print(attributes)\n",
    "# 'Feature importances' is another name for our coefficients (ie., the impace of each feature on the outcome or DV)\n",
    "feature_importances=lin_reg.coef_\n",
    "print(feature_importances)"
   ]
  },
  {
   "cell_type": "code",
   "execution_count": 22,
   "metadata": {},
   "outputs": [
    {
     "name": "stdout",
     "output_type": "stream",
     "text": [
      "14\n",
      "14\n"
     ]
    }
   ],
   "source": [
    "# obviously, these 2 things will have the same length\n",
    "print(len(feature_importances))\n",
    "print(len(attributes))"
   ]
  },
  {
   "cell_type": "code",
   "execution_count": 23,
   "metadata": {},
   "outputs": [
    {
     "data": {
      "text/plain": [
       "[-53268,\n",
       " -55032,\n",
       " 14081,\n",
       " -10368,\n",
       " -47000,\n",
       " 62124,\n",
       " 62035,\n",
       " 9993,\n",
       " 7292,\n",
       " 1081,\n",
       " -18657,\n",
       " 2293,\n",
       " -1267,\n",
       " 1316]"
      ]
     },
     "execution_count": 23,
     "metadata": {},
     "output_type": "execute_result"
    }
   ],
   "source": [
    "[int(x) for x in list(feature_importances)]"
   ]
  },
  {
   "cell_type": "code",
   "execution_count": 24,
   "metadata": {},
   "outputs": [
    {
     "data": {
      "text/html": [
       "<div>\n",
       "<style scoped>\n",
       "    .dataframe tbody tr th:only-of-type {\n",
       "        vertical-align: middle;\n",
       "    }\n",
       "\n",
       "    .dataframe tbody tr th {\n",
       "        vertical-align: top;\n",
       "    }\n",
       "\n",
       "    .dataframe thead th {\n",
       "        text-align: right;\n",
       "    }\n",
       "</style>\n",
       "<table border=\"1\" class=\"dataframe\">\n",
       "  <thead>\n",
       "    <tr style=\"text-align: right;\">\n",
       "      <th></th>\n",
       "      <th>coeffs</th>\n",
       "    </tr>\n",
       "    <tr>\n",
       "      <th>features</th>\n",
       "      <th></th>\n",
       "    </tr>\n",
       "  </thead>\n",
       "  <tbody>\n",
       "    <tr>\n",
       "      <th>latitude</th>\n",
       "      <td>-55032.359837</td>\n",
       "    </tr>\n",
       "    <tr>\n",
       "      <th>longitude</th>\n",
       "      <td>-53268.345352</td>\n",
       "    </tr>\n",
       "    <tr>\n",
       "      <th>population</th>\n",
       "      <td>-47000.696455</td>\n",
       "    </tr>\n",
       "    <tr>\n",
       "      <th>INLAND</th>\n",
       "      <td>-18657.474986</td>\n",
       "    </tr>\n",
       "    <tr>\n",
       "      <th>total_rooms</th>\n",
       "      <td>-10368.861278</td>\n",
       "    </tr>\n",
       "    <tr>\n",
       "      <th>NEAR BAY</th>\n",
       "      <td>-1267.704653</td>\n",
       "    </tr>\n",
       "    <tr>\n",
       "      <th>pop_per_household</th>\n",
       "      <td>1081.512071</td>\n",
       "    </tr>\n",
       "    <tr>\n",
       "      <th>NEAR OCEAN</th>\n",
       "      <td>1316.392899</td>\n",
       "    </tr>\n",
       "    <tr>\n",
       "      <th>ISLAND</th>\n",
       "      <td>2293.296831</td>\n",
       "    </tr>\n",
       "    <tr>\n",
       "      <th>rooms_per_hhold</th>\n",
       "      <td>7292.388670</td>\n",
       "    </tr>\n",
       "    <tr>\n",
       "      <th>income_cat</th>\n",
       "      <td>9993.287180</td>\n",
       "    </tr>\n",
       "    <tr>\n",
       "      <th>housing_median_age</th>\n",
       "      <td>14081.816992</td>\n",
       "    </tr>\n",
       "    <tr>\n",
       "      <th>median_income</th>\n",
       "      <td>62035.197482</td>\n",
       "    </tr>\n",
       "    <tr>\n",
       "      <th>households</th>\n",
       "      <td>62124.213527</td>\n",
       "    </tr>\n",
       "  </tbody>\n",
       "</table>\n",
       "</div>"
      ],
      "text/plain": [
       "                          coeffs\n",
       "features                        \n",
       "latitude           -55032.359837\n",
       "longitude          -53268.345352\n",
       "population         -47000.696455\n",
       "INLAND             -18657.474986\n",
       "total_rooms        -10368.861278\n",
       "NEAR BAY            -1267.704653\n",
       "pop_per_household    1081.512071\n",
       "NEAR OCEAN           1316.392899\n",
       "ISLAND               2293.296831\n",
       "rooms_per_hhold      7292.388670\n",
       "income_cat           9993.287180\n",
       "housing_median_age  14081.816992\n",
       "median_income       62035.197482\n",
       "households          62124.213527"
      ]
     },
     "execution_count": 24,
     "metadata": {},
     "output_type": "execute_result"
    }
   ],
   "source": [
    "# let's take a look at the results\n",
    "feature_imp = pd.DataFrame(list(zip(attributes, feature_importances)), columns=['features', 'coeffs'])\n",
    "feature_imp=feature_imp.set_index('features')\n",
    "feature_imp=feature_imp.sort_values('coeffs')\n",
    "feature_imp"
   ]
  },
  {
   "cell_type": "code",
   "execution_count": 25,
   "metadata": {},
   "outputs": [
    {
     "data": {
      "image/png": "[encoded data removed]",
      "text/plain": [
       "<Figure size 432x288 with 1 Axes>"
      ]
     },
     "metadata": {
      "needs_background": "light"
     },
     "output_type": "display_data"
    }
   ],
   "source": [
    "# plot that as a bar chart\n",
    "feature_imp.plot(kind='bar');"
   ]
  },
  {
   "cell_type": "markdown",
   "metadata": {},
   "source": [
    "## Evaluate your model"
   ]
  },
  {
   "cell_type": "code",
   "execution_count": 26,
   "metadata": {},
   "outputs": [
    {
     "data": {
      "text/plain": [
       "69479.14"
      ]
     },
     "execution_count": 26,
     "metadata": {},
     "output_type": "execute_result"
    }
   ],
   "source": [
    "# root mean squared error represents the average error (in $) of our model\n",
    "rmse = np.sqrt(metrics.mean_squared_error(y_test, y_preds))\n",
    "round(rmse,2)"
   ]
  },
  {
   "cell_type": "code",
   "execution_count": 27,
   "metadata": {},
   "outputs": [
    {
     "data": {
      "text/plain": [
       "207194.69"
      ]
     },
     "execution_count": 27,
     "metadata": {},
     "output_type": "execute_result"
    }
   ],
   "source": [
    "# how does this compare to the mean of our training set?\n",
    "avg_val = round(y_train.mean(),2)\n",
    "avg_val"
   ]
  },
  {
   "cell_type": "code",
   "execution_count": 28,
   "metadata": {},
   "outputs": [
    {
     "name": "stdout",
     "output_type": "stream",
     "text": [
      "114486\n"
     ]
    }
   ],
   "source": [
    "# If we used that as our predictor, then the average error of our model would be:\n",
    "comparison_array=np.full((len(y_test), ), avg_val)\n",
    "coin_flip=np.sqrt(metrics.mean_squared_error(y_test, comparison_array))\n",
    "print(round(coin_flip))"
   ]
  },
  {
   "cell_type": "code",
   "execution_count": 29,
   "metadata": {},
   "outputs": [
    {
     "data": {
      "text/plain": [
       "0.63"
      ]
     },
     "execution_count": 29,
     "metadata": {},
     "output_type": "execute_result"
    }
   ],
   "source": [
    "# R-squared is another important metric\n",
    "r2=metrics.r2_score(y_test, y_preds)\n",
    "round(r2, 2)"
   ]
  },
  {
   "cell_type": "code",
   "execution_count": 30,
   "metadata": {},
   "outputs": [
    {
     "data": {
      "image/png": "[encoded data removed]",
      "text/plain": [
       "<Figure size 504x504 with 1 Axes>"
      ]
     },
     "metadata": {
      "needs_background": "light"
     },
     "output_type": "display_data"
    }
   ],
   "source": [
    "# Visualize our true vs. predicted values\n",
    "import seaborn as sns\n",
    "plt.figure(figsize=(7,7))\n",
    "plt.title('Median House Value by District')\n",
    "plt.xlabel('True Values')\n",
    "plt.ylabel('Predicted Values')\n",
    "fig=sns.regplot(x=y_preds, y=y_test)\n",
    "plt.show(fig)"
   ]
  }
 ],
 "metadata": {
  "kernelspec": {
   "display_name": "Python 3",
   "language": "python",
   "name": "python3"
  },
  "language_info": {
   "codemirror_mode": {
    "name": "ipython",
    "version": 3
   },
   "file_extension": ".py",
   "mimetype": "text/x-python",
   "name": "python",
   "nbconvert_exporter": "python",
   "pygments_lexer": "ipython3",
   "version": "3.8.8"
  }
 },
 "nbformat": 4,
 "nbformat_minor": 4
}
