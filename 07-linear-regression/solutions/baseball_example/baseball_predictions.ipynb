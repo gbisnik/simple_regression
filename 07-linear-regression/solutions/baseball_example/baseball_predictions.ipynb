{
 "cells": [
  {
   "cell_type": "code",
   "execution_count": 4,
   "metadata": {},
   "outputs": [],
   "source": [
    "import pandas as pd\n",
    "import numpy as np\n",
    "import pickle"
   ]
  },
  {
   "cell_type": "code",
   "execution_count": 5,
   "metadata": {},
   "outputs": [],
   "source": [
    "## read in our pickle file!\n",
    "filename = open('final_model.pkl', 'rb')"
   ]
  },
  {
   "cell_type": "code",
   "execution_count": 6,
   "metadata": {},
   "outputs": [],
   "source": [
    "## instantiate the trained model\n",
    "model = pickle.load(filename)"
   ]
  },
  {
   "cell_type": "code",
   "execution_count": 7,
   "metadata": {},
   "outputs": [],
   "source": [
    "# don't forget to close pickle!\n",
    "filename.close()"
   ]
  },
  {
   "cell_type": "code",
   "execution_count": 16,
   "metadata": {},
   "outputs": [
    {
     "name": "stdout",
     "output_type": "stream",
     "text": [
      "[ 0.01734693  0.4079972   0.8934535  -0.26518965  0.26239371  1.13351088\n",
      "  1.23206515 -0.56042056 -1.80515547]\n",
      "-4.321258350810403\n"
     ]
    }
   ],
   "source": [
    "# the pickled model contains the coefficients and intercept\n",
    "print(model.coef_)\n",
    "print(model.intercept_)"
   ]
  },
  {
   "cell_type": "code",
   "execution_count": 37,
   "metadata": {},
   "outputs": [
    {
     "data": {
      "text/plain": [
       "[(0.01734692713038667, 'AtBat'),\n",
       " (0.4079972014242659, 'Hits'),\n",
       " (0.8934535020025788, 'HmRun'),\n",
       " (-0.2651896522206619, 'RBI'),\n",
       " (0.262393705142494, 'Walks'),\n",
       " (1.1335108810885197, 'AE'),\n",
       " (1.2320651503896902, 'AW'),\n",
       " (-0.5604205619301984, 'NE'),\n",
       " (-1.8051554695480112, 'NW')]"
      ]
     },
     "execution_count": 37,
     "metadata": {},
     "output_type": "execute_result"
    }
   ],
   "source": [
    "# what is the equation for this model?\n",
    "xcolumns=['AtBat', 'Hits', 'HmRun', 'RBI', 'Walks', 'AE', 'AW', 'NE', 'NW']\n",
    "coefs=list(model.coef_)\n",
    "xcoefs = [(coefs[i], cols[i]) for i in range(0, len(cols))]\n",
    "xcoefs"
   ]
  },
  {
   "cell_type": "code",
   "execution_count": 38,
   "metadata": {},
   "outputs": [
    {
     "name": "stdout",
     "output_type": "stream",
     "text": [
      "Regression Equation:  y = -4.32 + 0.02*AtBat + 0.41*Hits + 0.89*HmRun + -0.27*RBI + 0.26*Walks + 1.13*AE + 1.23*AW  + -0.56*NE + -1.81*NW \n"
     ]
    }
   ],
   "source": [
    "output = f'y = {round(model.intercept_,2)} + {round(xcoefs[0][0],2)}*{xcoefs[0][1]} + {round(xcoefs[1][0],2)}*{xcoefs[1][1]} + {round(xcoefs[2][0],2)}*{xcoefs[2][1]} + {round(xcoefs[3][0],2)}*{xcoefs[3][1]} + {round(xcoefs[4][0],2)}*{xcoefs[4][1]} + {round(xcoefs[5][0],2)}*{xcoefs[5][1]} + {round(xcoefs[6][0],2)}*{xcoefs[6][1]}  + {round(xcoefs[7][0],2)}*{xcoefs[7][1]} + {round(xcoefs[8][0],2)}*{xcoefs[8][1]} '\n",
    "print(\"Regression Equation: \", output)  \n"
   ]
  },
  {
   "cell_type": "markdown",
   "metadata": {},
   "source": [
    "### generate some fake data\n",
    "Let's pretend it's 1956"
   ]
  },
  {
   "cell_type": "markdown",
   "metadata": {},
   "source": [
    "#### Mickey Mantle"
   ]
  },
  {
   "cell_type": "code",
   "execution_count": 23,
   "metadata": {},
   "outputs": [],
   "source": [
    "# actual stats:\n",
    "Runs = 132\n",
    "AtBat = 533\n",
    "Hits = 188\n",
    "HmRun = 52\n",
    "RBI = 130\n",
    "Walks = 112\n",
    "AE=1\n",
    "AW=0\n",
    "NE=0\n",
    "NW=0"
   ]
  },
  {
   "cell_type": "code",
   "execution_count": 24,
   "metadata": {},
   "outputs": [
    {
     "data": {
      "text/html": [
       "<div>\n",
       "<style scoped>\n",
       "    .dataframe tbody tr th:only-of-type {\n",
       "        vertical-align: middle;\n",
       "    }\n",
       "\n",
       "    .dataframe tbody tr th {\n",
       "        vertical-align: top;\n",
       "    }\n",
       "\n",
       "    .dataframe thead th {\n",
       "        text-align: right;\n",
       "    }\n",
       "</style>\n",
       "<table border=\"1\" class=\"dataframe\">\n",
       "  <thead>\n",
       "    <tr style=\"text-align: right;\">\n",
       "      <th></th>\n",
       "      <th>stats</th>\n",
       "    </tr>\n",
       "    <tr>\n",
       "      <th>features</th>\n",
       "      <th></th>\n",
       "    </tr>\n",
       "  </thead>\n",
       "  <tbody>\n",
       "    <tr>\n",
       "      <th>AtBat</th>\n",
       "      <td>533</td>\n",
       "    </tr>\n",
       "    <tr>\n",
       "      <th>Hits</th>\n",
       "      <td>188</td>\n",
       "    </tr>\n",
       "    <tr>\n",
       "      <th>HmRun</th>\n",
       "      <td>52</td>\n",
       "    </tr>\n",
       "    <tr>\n",
       "      <th>RBI</th>\n",
       "      <td>130</td>\n",
       "    </tr>\n",
       "    <tr>\n",
       "      <th>Walks</th>\n",
       "      <td>112</td>\n",
       "    </tr>\n",
       "    <tr>\n",
       "      <th>AE</th>\n",
       "      <td>1</td>\n",
       "    </tr>\n",
       "    <tr>\n",
       "      <th>AW</th>\n",
       "      <td>0</td>\n",
       "    </tr>\n",
       "    <tr>\n",
       "      <th>NE</th>\n",
       "      <td>0</td>\n",
       "    </tr>\n",
       "    <tr>\n",
       "      <th>NW</th>\n",
       "      <td>0</td>\n",
       "    </tr>\n",
       "  </tbody>\n",
       "</table>\n",
       "</div>"
      ],
      "text/plain": [
       "          stats\n",
       "features       \n",
       "AtBat       533\n",
       "Hits        188\n",
       "HmRun        52\n",
       "RBI         130\n",
       "Walks       112\n",
       "AE            1\n",
       "AW            0\n",
       "NE            0\n",
       "NW            0"
      ]
     },
     "execution_count": 24,
     "metadata": {},
     "output_type": "execute_result"
    }
   ],
   "source": [
    "# turn those stats into a dataframe\n",
    "features=['AtBat', 'Hits', 'HmRun', 'RBI', 'Walks', 'AE', 'AW', 'NE', 'NW']\n",
    "stats=[AtBat, Hits, HmRun, RBI, Walks, AE, AW, NE, NW]\n",
    "mickey = pd.DataFrame(list(zip(features, stats)), columns=['features','stats'])\n",
    "mickey= mickey.set_index('features')\n",
    "mickey"
   ]
  },
  {
   "cell_type": "code",
   "execution_count": 25,
   "metadata": {},
   "outputs": [],
   "source": [
    "# remember you can resape your data\n",
    "reshaped_stats = np.array(mickey['stats']).reshape(1,-1)"
   ]
  },
  {
   "cell_type": "code",
   "execution_count": 26,
   "metadata": {},
   "outputs": [
    {
     "data": {
      "text/plain": [
       "array([124.13466085])"
      ]
     },
     "execution_count": 26,
     "metadata": {},
     "output_type": "execute_result"
    }
   ],
   "source": [
    "# how many runs do we predict that mickey got?\n",
    "model.predict(reshaped_stats )"
   ]
  },
  {
   "cell_type": "code",
   "execution_count": 39,
   "metadata": {},
   "outputs": [
    {
     "name": "stdout",
     "output_type": "stream",
     "text": [
      "124.85\n"
     ]
    }
   ],
   "source": [
    "# Notice how we get the same results by simply using the equation.\n",
    "y = -4.32 + 0.02*AtBat + 0.41*Hits + 0.89*HmRun + -0.27*RBI + 0.26*Walks + 1.13*AE + 1.23*AW  + -0.56*NE + -1.81*NW\n",
    "print(y)"
   ]
  },
  {
   "cell_type": "markdown",
   "metadata": {},
   "source": [
    "In 1956, Mantle won the Major League's Triple Crown when he batted . 353, hit 52 home runs and batted in 132 runs.\n",
    "* http://mickeymantle.com/1956-statistics/\n",
    "* https://www.baseball-reference.com/players/m/mantlmi01.shtml"
   ]
  },
  {
   "cell_type": "code",
   "execution_count": 29,
   "metadata": {},
   "outputs": [
    {
     "name": "stdout",
     "output_type": "stream",
     "text": [
      "For Mickey Mantle, our model is off by about 8 runs\n"
     ]
    }
   ],
   "source": [
    "# what's our error?\n",
    "error = abs(model.predict(reshaped_stats )-132)\n",
    "print(\"For Mickey Mantle, our model is off by about {} runs\".format(round(error[0]),2))"
   ]
  },
  {
   "cell_type": "markdown",
   "metadata": {},
   "source": [
    "![Supervised learning diagram](http://mickeymantle.com/wp-content/uploads/2014/10/56toppsB.jpg)"
   ]
  },
  {
   "cell_type": "code",
   "execution_count": null,
   "metadata": {},
   "outputs": [],
   "source": []
  }
 ],
 "metadata": {
  "kernelspec": {
   "display_name": "Python 3",
   "language": "python",
   "name": "python3"
  },
  "language_info": {
   "codemirror_mode": {
    "name": "ipython",
    "version": 3
   },
   "file_extension": ".py",
   "mimetype": "text/x-python",
   "name": "python",
   "nbconvert_exporter": "python",
   "pygments_lexer": "ipython3",
   "version": "3.8.2"
  }
 },
 "nbformat": 4,
 "nbformat_minor": 2
}
